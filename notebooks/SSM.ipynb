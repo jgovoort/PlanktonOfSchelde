{
 "cells": [
  {
   "cell_type": "markdown",
   "id": "48045a0e-401d-4c26-9f00-85e2ec933855",
   "metadata": {},
   "source": [
    "# POS Steady-State Modelling"
   ]
  },
  {
   "cell_type": "code",
   "execution_count": 35,
   "id": "8136ad56-bbda-4362-8984-4d0593ee4ee5",
   "metadata": {},
   "outputs": [],
   "source": [
    "import matplotlib.pyplot as plt\n",
    "import numpy as np\n",
    "import pandas as pd"
   ]
  },
  {
   "cell_type": "code",
   "execution_count": 2,
   "id": "3a03411f-1920-4d1b-88a6-2fe10b5558b6",
   "metadata": {},
   "outputs": [],
   "source": [
    "lineS = [0, 35]\n",
    "Cmin = 20\n",
    "Cmax = 40"
   ]
  },
  {
   "cell_type": "code",
   "execution_count": 3,
   "id": "71da2b92-ed8d-45a0-96a0-e234daea2cf7",
   "metadata": {},
   "outputs": [],
   "source": [
    "msrS = [0,2,5,6,8,10,22,23,25,27]\n",
    "msrC = [40, 30, 27, 26,22,24,29,25,22,21]"
   ]
  },
  {
   "cell_type": "code",
   "execution_count": 4,
   "id": "569c527e-8832-490a-9e2c-59304c2591d3",
   "metadata": {},
   "outputs": [
    {
     "data": {
      "image/png": "[encoded data removed]",
      "text/plain": [
       "<Figure size 640x480 with 1 Axes>"
      ]
     },
     "metadata": {},
     "output_type": "display_data"
    }
   ],
   "source": [
    "plt.plot(lineS, [Cmax, Cmin], c='r', linestyle = '--')\n",
    "plt.scatter(msrS, msrC)\n",
    "plt.xlabel('Salinity')\n",
    "plt.ylabel('Concentration')\n",
    "plt.show()"
   ]
  },
  {
   "cell_type": "markdown",
   "id": "f774b254-a215-488b-8bd9-68596a15a5e8",
   "metadata": {},
   "source": [
    "# relationship of Weiss and Price (1980).\n",
    "Determine the N$_2$0 saturation. https://doi.org/10.1016/0304-4203(80)90024-9"
   ]
  },
  {
   "cell_type": "markdown",
   "id": "afae403e-ea04-411c-af59-48916b1aa8ff",
   "metadata": {},
   "source": [
    "## Constante"
   ]
  },
  {
   "cell_type": "raw",
   "id": "42d7f0be-6911-4599-9f2c-6da73966dcf7",
   "metadata": {},
   "source": [
    "def weiss_relation(P,T,S) :\n",
    "    \n",
    "    #P = 2 #atm\n",
    "    R = 0.08205601 #L*atm*mol*K-1\n",
    "    TK = 273.15\n",
    "    T += TK\n",
    "    #S = 35\n",
    "    v = 32.3\n",
    "    \n",
    "    \n",
    "    B = -905.95 + 4.1685*T - 0.0052734*T**2\n",
    "    #print(B)\n",
    "    f = P*np.exp(B*P/(R*T))\n",
    "    #print(f)\n",
    "    \n",
    "    A1 = -62.7062  \n",
    "    A2 = 97.3066\n",
    "    A3 = 24.1406\n",
    "    B1 = - 0.058420\n",
    "    B2 = 0.033193 \n",
    "    B3 = - 0.0051313 \n",
    "\n",
    "    K0 = A1 + A2*(100/T) + A3*np.log(T/100) + S*(B1 + B2*(T/100) + B3*(T/100)**2)\n",
    "    K0 = np.exp(K0)\n",
    "    #print(K0)\n",
    "    \n",
    "    C = K0*f*np.exp((1 - P)*v/(R*T))\n",
    "    #print(C)\n",
    "    \n",
    "    return C"
   ]
  },
  {
   "cell_type": "code",
   "execution_count": 60,
   "id": "dcbd05eb-d518-4c2a-8d2f-8fefe19663ed",
   "metadata": {},
   "outputs": [],
   "source": [
    "def weiss_relation(P,T,S) :\n",
    "    \n",
    "\n",
    "    TK = 273.15\n",
    "    T += TK\n",
    "    #S = 35\n",
    "    x = 336*10**-9\n",
    "    \n",
    "    A1 = -165.8806  \n",
    "    A2 = 222.8743\n",
    "    A3 = 92.0792\n",
    "    A4 = -1.48425\n",
    "    B1 = - 0.056235\n",
    "    B2 = 0.031619 \n",
    "    B3 = - 0.0048472 \n",
    "\n",
    "    F = A1 + A2*(100/T) + A3*np.log(T/100) + A4*(T/100)**2 + S*(B1 + B2*(T/100) + B3*(T/100)**2)\n",
    "    F = np.exp(F)\n",
    "    \n",
    "    C = x * F\n",
    "    print(C, 'mol.L')\n",
    "    \n",
    "    return C"
   ]
  },
  {
   "cell_type": "code",
   "execution_count": 62,
   "id": "a643e2eb-efa3-47d3-91f5-4b712342fadc",
   "metadata": {},
   "outputs": [
    {
     "name": "stdout",
     "output_type": "stream",
     "text": [
      "1.3120445987921935e-08 mol.L\n"
     ]
    }
   ],
   "source": [
    "C = weiss_relation(1, 5,35)"
   ]
  },
  {
   "cell_type": "markdown",
   "id": "02cd4a0a-5d2c-42a7-8ebe-21d5057681e8",
   "metadata": {},
   "source": [
    "### Calculating the concentration"
   ]
  },
  {
   "cell_type": "code",
   "execution_count": 63,
   "id": "65948cd9-9dbc-404d-b13e-e5e58b7c98cb",
   "metadata": {},
   "outputs": [],
   "source": [
    "'''\n",
    "M = N2O measurement in mol.L**-1\n",
    "t = Temperature in celcius\n",
    "S = Salinity in PSU\n",
    "u = wind speed (m/s)\n",
    "A = surface area (default = 1 m**2)\n",
    "P = Pressure (1 atm)\n",
    "'''\n",
    "\n",
    "def Wanninkhof(M, t, S, u=5, A=1, P=1) :\n",
    "\n",
    "    kw = 2.0 + 0.24*u**2\n",
    "    Sc = 2301.1 - 151.1*t + 4.7364*t**2 - 0.059431*t**3 #Wanninkhof 1992\n",
    "\n",
    "    k = kw * (Sc/600)**-.5 #in cm/hour\n",
    "    k = k/((3600)*100) #convert into m/s\n",
    "    \n",
    "    C = weiss_relation(P, t, S)\n",
    "    \n",
    "    \n",
    "    F = k*A*((M-C)*1000) #*1000 to convert in m^3\n",
    "    \n",
    "    print(F*60*60*24*10**6, 'µmol/m²/day')\n",
    "    print(F, 'mol/m²/s')\n",
    "    return F "
   ]
  },
  {
   "cell_type": "code",
   "execution_count": 64,
   "id": "933864d2-ad06-4b1d-b570-bf6144c203a2",
   "metadata": {},
   "outputs": [
    {
     "name": "stdout",
     "output_type": "stream",
     "text": [
      "1.0923494738310538e-08 mol.L\n",
      "80.06130856108727 µmol/m²/day\n",
      "9.266355157533249e-10 mol/m²/s\n"
     ]
    },
    {
     "data": {
      "text/plain": [
       "9.266355157533249e-10"
      ]
     },
     "execution_count": 64,
     "metadata": {},
     "output_type": "execute_result"
    }
   ],
   "source": [
    "Wanninkhof(70*10**-9,10,35)"
   ]
  },
  {
   "cell_type": "markdown",
   "id": "cf4f83e4-3f8d-4e2c-b8dd-cd56d7a74d4d",
   "metadata": {},
   "source": [
    "### Importing temperature, salinity and [N2O] data"
   ]
  },
  {
   "cell_type": "code",
   "execution_count": 103,
   "id": "178858b7-ca79-46dc-a506-277a538706af",
   "metadata": {},
   "outputs": [],
   "source": [
    "root = 'D:/GitHub/PlanktonOfSchelde/'"
   ]
  },
  {
   "cell_type": "code",
   "execution_count": 108,
   "id": "06578b73-200a-4ebd-9852-88d4f547c1f1",
   "metadata": {},
   "outputs": [],
   "source": [
    "df = pd.read_csv(root+'data/GC-DATA.csv', delimiter=';', decimal=',')"
   ]
  },
  {
   "cell_type": "code",
   "execution_count": 109,
   "id": "f69e22b3-99c3-4589-b1ac-55d9e4e4c4f1",
   "metadata": {},
   "outputs": [
    {
     "data": {
      "text/html": [
       "<div>\n",
       "<style scoped>\n",
       "    .dataframe tbody tr th:only-of-type {\n",
       "        vertical-align: middle;\n",
       "    }\n",
       "\n",
       "    .dataframe tbody tr th {\n",
       "        vertical-align: top;\n",
       "    }\n",
       "\n",
       "    .dataframe thead th {\n",
       "        text-align: right;\n",
       "    }\n",
       "</style>\n",
       "<table border=\"1\" class=\"dataframe\">\n",
       "  <thead>\n",
       "    <tr style=\"text-align: right;\">\n",
       "      <th></th>\n",
       "      <th>Station</th>\n",
       "      <th>Latitude (N)</th>\n",
       "      <th>Longitude (E)</th>\n",
       "      <th>Tmean (°C)</th>\n",
       "      <th>Salinity PSU</th>\n",
       "      <th>N2O (nM)</th>\n",
       "      <th>NH4 (µmol/L)</th>\n",
       "      <th>NOx (µmol/L)</th>\n",
       "      <th>O2 dissous winkler (mg/L)</th>\n",
       "    </tr>\n",
       "  </thead>\n",
       "  <tbody>\n",
       "    <tr>\n",
       "      <th>0</th>\n",
       "      <td>S01</td>\n",
       "      <td>51.416033</td>\n",
       "      <td>3.583233</td>\n",
       "      <td>7.00</td>\n",
       "      <td>27.81</td>\n",
       "      <td>15.23</td>\n",
       "      <td>5.98</td>\n",
       "      <td>104.17</td>\n",
       "      <td>7.46</td>\n",
       "    </tr>\n",
       "    <tr>\n",
       "      <th>1</th>\n",
       "      <td>S01B</td>\n",
       "      <td>51.415917</td>\n",
       "      <td>3.571033</td>\n",
       "      <td>6.90</td>\n",
       "      <td>29.70</td>\n",
       "      <td>18.03</td>\n",
       "      <td>4.97</td>\n",
       "      <td>61.85</td>\n",
       "      <td>7.12</td>\n",
       "    </tr>\n",
       "    <tr>\n",
       "      <th>2</th>\n",
       "      <td>T02</td>\n",
       "      <td>51.340633</td>\n",
       "      <td>4.269417</td>\n",
       "      <td>7.64</td>\n",
       "      <td>8.05</td>\n",
       "      <td>-999.00</td>\n",
       "      <td>16.00</td>\n",
       "      <td>87.10</td>\n",
       "      <td>7.34</td>\n",
       "    </tr>\n",
       "    <tr>\n",
       "      <th>3</th>\n",
       "      <td>S04</td>\n",
       "      <td>51.344417</td>\n",
       "      <td>3.846533</td>\n",
       "      <td>6.89</td>\n",
       "      <td>22.38</td>\n",
       "      <td>19.40</td>\n",
       "      <td>5.72</td>\n",
       "      <td>133.47</td>\n",
       "      <td>7.79</td>\n",
       "    </tr>\n",
       "    <tr>\n",
       "      <th>4</th>\n",
       "      <td>T04</td>\n",
       "      <td>51.429883</td>\n",
       "      <td>3.968567</td>\n",
       "      <td>6.71</td>\n",
       "      <td>16.17</td>\n",
       "      <td>22.43</td>\n",
       "      <td>8.95</td>\n",
       "      <td>179.04</td>\n",
       "      <td>7.24</td>\n",
       "    </tr>\n",
       "    <tr>\n",
       "      <th>5</th>\n",
       "      <td>T05</td>\n",
       "      <td>51.398900</td>\n",
       "      <td>3.951933</td>\n",
       "      <td>6.60</td>\n",
       "      <td>18.77</td>\n",
       "      <td>-999.00</td>\n",
       "      <td>7.94</td>\n",
       "      <td>157.88</td>\n",
       "      <td>7.29</td>\n",
       "    </tr>\n",
       "    <tr>\n",
       "      <th>6</th>\n",
       "      <td>S09</td>\n",
       "      <td>51.371600</td>\n",
       "      <td>4.082783</td>\n",
       "      <td>7.29</td>\n",
       "      <td>11.04</td>\n",
       "      <td>27.88</td>\n",
       "      <td>5.61</td>\n",
       "      <td>231.12</td>\n",
       "      <td>7.31</td>\n",
       "    </tr>\n",
       "    <tr>\n",
       "      <th>7</th>\n",
       "      <td>S12</td>\n",
       "      <td>51.364000</td>\n",
       "      <td>4.225633</td>\n",
       "      <td>7.58</td>\n",
       "      <td>6.64</td>\n",
       "      <td>33.88</td>\n",
       "      <td>24.47</td>\n",
       "      <td>274.70</td>\n",
       "      <td>7.00</td>\n",
       "    </tr>\n",
       "    <tr>\n",
       "      <th>8</th>\n",
       "      <td>S15</td>\n",
       "      <td>51.312417</td>\n",
       "      <td>4.272633</td>\n",
       "      <td>7.59</td>\n",
       "      <td>8.89</td>\n",
       "      <td>29.41</td>\n",
       "      <td>10.38</td>\n",
       "      <td>259.63</td>\n",
       "      <td>7.17</td>\n",
       "    </tr>\n",
       "    <tr>\n",
       "      <th>9</th>\n",
       "      <td>S15B</td>\n",
       "      <td>51.324033</td>\n",
       "      <td>4.274983</td>\n",
       "      <td>7.26</td>\n",
       "      <td>3.79</td>\n",
       "      <td>40.29</td>\n",
       "      <td>15.41</td>\n",
       "      <td>291.45</td>\n",
       "      <td>6.48</td>\n",
       "    </tr>\n",
       "    <tr>\n",
       "      <th>10</th>\n",
       "      <td>S22</td>\n",
       "      <td>51.220633</td>\n",
       "      <td>4.392817</td>\n",
       "      <td>7.21</td>\n",
       "      <td>3.61</td>\n",
       "      <td>43.58</td>\n",
       "      <td>19.97</td>\n",
       "      <td>296.48</td>\n",
       "      <td>6.92</td>\n",
       "    </tr>\n",
       "    <tr>\n",
       "      <th>11</th>\n",
       "      <td>S22B</td>\n",
       "      <td>51.216267</td>\n",
       "      <td>4.389483</td>\n",
       "      <td>7.06</td>\n",
       "      <td>0.49</td>\n",
       "      <td>74.40</td>\n",
       "      <td>44.61</td>\n",
       "      <td>321.60</td>\n",
       "      <td>5.76</td>\n",
       "    </tr>\n",
       "    <tr>\n",
       "      <th>12</th>\n",
       "      <td>T01</td>\n",
       "      <td>51.372900</td>\n",
       "      <td>4.144217</td>\n",
       "      <td>7.64</td>\n",
       "      <td>8.04</td>\n",
       "      <td>22.37</td>\n",
       "      <td>9.80</td>\n",
       "      <td>211.05</td>\n",
       "      <td>7.35</td>\n",
       "    </tr>\n",
       "    <tr>\n",
       "      <th>13</th>\n",
       "      <td>T06</td>\n",
       "      <td>51.352700</td>\n",
       "      <td>3.873800</td>\n",
       "      <td>6.66</td>\n",
       "      <td>20.72</td>\n",
       "      <td>23.00</td>\n",
       "      <td>7.78</td>\n",
       "      <td>139.98</td>\n",
       "      <td>7.22</td>\n",
       "    </tr>\n",
       "    <tr>\n",
       "      <th>14</th>\n",
       "      <td>T07</td>\n",
       "      <td>51.368017</td>\n",
       "      <td>3.749600</td>\n",
       "      <td>6.82</td>\n",
       "      <td>24.48</td>\n",
       "      <td>20.71</td>\n",
       "      <td>-999.00</td>\n",
       "      <td>110.68</td>\n",
       "      <td>7.00</td>\n",
       "    </tr>\n",
       "  </tbody>\n",
       "</table>\n",
       "</div>"
      ],
      "text/plain": [
       "   Station  Latitude (N)  Longitude (E)  Tmean (°C)  Salinity PSU  N2O (nM)  \\\n",
       "0      S01     51.416033       3.583233        7.00         27.81     15.23   \n",
       "1     S01B     51.415917       3.571033        6.90         29.70     18.03   \n",
       "2      T02     51.340633       4.269417        7.64          8.05   -999.00   \n",
       "3      S04     51.344417       3.846533        6.89         22.38     19.40   \n",
       "4      T04     51.429883       3.968567        6.71         16.17     22.43   \n",
       "5      T05     51.398900       3.951933        6.60         18.77   -999.00   \n",
       "6      S09     51.371600       4.082783        7.29         11.04     27.88   \n",
       "7      S12     51.364000       4.225633        7.58          6.64     33.88   \n",
       "8      S15     51.312417       4.272633        7.59          8.89     29.41   \n",
       "9     S15B     51.324033       4.274983        7.26          3.79     40.29   \n",
       "10     S22     51.220633       4.392817        7.21          3.61     43.58   \n",
       "11    S22B     51.216267       4.389483        7.06          0.49     74.40   \n",
       "12     T01     51.372900       4.144217        7.64          8.04     22.37   \n",
       "13     T06     51.352700       3.873800        6.66         20.72     23.00   \n",
       "14     T07     51.368017       3.749600        6.82         24.48     20.71   \n",
       "\n",
       "    NH4 (µmol/L)  NOx (µmol/L)  O2 dissous winkler (mg/L)  \n",
       "0           5.98        104.17                       7.46  \n",
       "1           4.97         61.85                       7.12  \n",
       "2          16.00         87.10                       7.34  \n",
       "3           5.72        133.47                       7.79  \n",
       "4           8.95        179.04                       7.24  \n",
       "5           7.94        157.88                       7.29  \n",
       "6           5.61        231.12                       7.31  \n",
       "7          24.47        274.70                       7.00  \n",
       "8          10.38        259.63                       7.17  \n",
       "9          15.41        291.45                       6.48  \n",
       "10         19.97        296.48                       6.92  \n",
       "11         44.61        321.60                       5.76  \n",
       "12          9.80        211.05                       7.35  \n",
       "13          7.78        139.98                       7.22  \n",
       "14       -999.00        110.68                       7.00  "
      ]
     },
     "execution_count": 109,
     "metadata": {},
     "output_type": "execute_result"
    }
   ],
   "source": [
    "df"
   ]
  },
  {
   "cell_type": "code",
   "execution_count": 110,
   "id": "3ef2178e-f845-4b55-bed9-21438da9f43a",
   "metadata": {},
   "outputs": [],
   "source": [
    "Tmeas = df['Tmean (°C)']\n",
    "Smeas = df['Salinity PSU']\n",
    "Nmeas = df['N2O (nM)']\n",
    "Nhmeas = df['NH4 (µmol/L)']\n",
    "NOmeas = df['NOx (µmol/L)'] \n",
    "Omeas = df['O2 dissous winkler (mg/L)'] \n",
    "NmeasNan = np.where(Nmeas == -999, np.nan, Nmeas)\n",
    "NhmeasNan = np.where(Nhmeas == -999, np.nan, Nhmeas)\n",
    "NOmeasNan = np.where(NOmeas == -999, np.nan, NOmeas)"
   ]
  },
  {
   "cell_type": "markdown",
   "id": "230fb105-9f37-41b9-aa40-81b40b0821ef",
   "metadata": {},
   "source": [
    "### Computing the N2O fluxes"
   ]
  },
  {
   "cell_type": "code",
   "execution_count": 147,
   "id": "a4216b8d-808c-46af-a35c-d828410fa25e",
   "metadata": {
    "scrolled": true,
    "tags": []
   },
   "outputs": [
    {
     "name": "stdout",
     "output_type": "stream",
     "text": [
      "1.2683158225232332e-08 mol.L\n",
      "3.140021215164178 µmol/m²/day\n",
      "3.6342838138474284e-11 mol/m²/s\n",
      "1.2594036426656316e-08 mol.L\n",
      "6.680526981815701 µmol/m²/day\n",
      "7.732091414138543e-11 mol/m²/s\n",
      "1.3135708569627957e-08 mol.L\n",
      "7.696024068570466 µmol/m²/day\n",
      "8.907435264549149e-11 mol/m²/s\n",
      "1.370219993741954e-08 mol.L\n",
      "10.660606114477957 µmol/m²/day\n",
      "1.2338664484349486e-10 mol/m²/s\n",
      "1.3802212740440918e-08 mol.L\n",
      "17.518882901337854 µmol/m²/day\n",
      "2.02764848395114e-10 mol/m²/s\n",
      "1.3996981266034753e-08 mol.L\n",
      "24.973696237981656 µmol/m²/day\n",
      "2.890474101618247e-10 mol/m²/s\n",
      "1.3814289222889768e-08 mol.L\n",
      "19.594958572881737 µmol/m²/day\n",
      "2.2679350200094605e-10 mol/m²/s\n",
      "1.4399361836852365e-08 mol.L\n",
      "32.18824339505973 µmol/m²/day\n",
      "3.7254911336874685e-10 mol/m²/s\n",
      "1.4441639654406545e-08 mol.L\n",
      "36.16791800010689 µmol/m²/day\n",
      "4.186101620382742e-10 mol/m²/s\n",
      "1.4785039868413156e-08 mol.L\n",
      "73.64157118018952 µmol/m²/day\n",
      "8.52332999770712e-10 mol/m²/s\n",
      "1.3854853937047941e-08 mol.L\n",
      "10.715795145684487 µmol/m²/day\n",
      "1.2402540677875563e-10 mol/m²/s\n",
      "1.337597986875557e-08 mol.L\n",
      "11.736364349676693 µmol/m²/day\n",
      "1.3583755034348025e-10 mol/m²/s\n",
      "1.3013419950337598e-08 mol.L\n",
      "9.43438974264943 µmol/m²/day\n",
      "1.0919432572510913e-10 mol/m²/s\n"
     ]
    }
   ],
   "source": [
    "Flux = []\n",
    "for i in range(len(Tmeas)) :\n",
    "\n",
    "    N2O = Nmeas[i]\n",
    "    temp = Tmeas[i]\n",
    "    Sali = Smeas[i]\n",
    "\n",
    "    if N2O != -999 :\n",
    "        N2O = Nmeas[i]*10**-9\n",
    "        f = Wanninkhof(N2O,temp,Sali)\n",
    "        f = f*3600*10**6 #convert in µmol.m**-2.hour**-1\n",
    "        Flux.append(f) \n",
    "    else :\n",
    "        Flux.append(-999)"
   ]
  },
  {
   "cell_type": "code",
   "execution_count": 148,
   "id": "1da92a0e-918a-4e91-9939-71189571bebd",
   "metadata": {},
   "outputs": [],
   "source": [
    "Flux = np.array(Flux)\n",
    "Flux = np.where(Flux==-999, np.nan, Flux)"
   ]
  },
  {
   "cell_type": "code",
   "execution_count": 149,
   "id": "54aa5faf-95ba-4962-8ae7-06c046286071",
   "metadata": {},
   "outputs": [
    {
     "data": {
      "text/plain": [
       "array([0.13083422, 0.27835529,        nan, 0.32066767, 0.44419192,\n",
       "              nan, 0.72995345, 1.04057068, 0.81645661, 1.34117681,\n",
       "       1.50699658, 3.0683988 , 0.44649146, 0.48901518, 0.39309957])"
      ]
     },
     "execution_count": 149,
     "metadata": {},
     "output_type": "execute_result"
    }
   ],
   "source": [
    "Flux"
   ]
  },
  {
   "cell_type": "markdown",
   "id": "3353eab8-1305-4565-b0ac-9ed2e86580e6",
   "metadata": {},
   "source": [
    "### Plotting"
   ]
  },
  {
   "cell_type": "code",
   "execution_count": 150,
   "id": "c37ea611-7f69-4e0d-b5d9-0043d8c52477",
   "metadata": {},
   "outputs": [
    {
     "data": {
      "text/plain": [
       "Text(0, 0.5, '[N$_2$O] Fluxes µmol.m$^{-2}$.hour$^{-1}$')"
      ]
     },
     "execution_count": 150,
     "metadata": {},
     "output_type": "execute_result"
    },
    {
     "data": {
      "image/png": "[encoded data removed]",
      "text/plain": [
       "<Figure size 2200x1000 with 8 Axes>"
      ]
     },
     "metadata": {},
     "output_type": "display_data"
    }
   ],
   "source": [
    "fig, ax = plt.subplots(nrows = 2, ncols=4, figsize=(22,10))\n",
    "\n",
    "#### first line ####\n",
    "\n",
    "ax[0][0].scatter(Smeas, NmeasNan)\n",
    "ax[0][0].set_xlabel('Salinity PSU')\n",
    "ax[0][0].set_ylabel('[N$_2$O] nmol.L$^{-1}$')\n",
    "\n",
    "ax[0][1].scatter(Smeas, NhmeasNan, c='orange')\n",
    "ax[0][1].set_xlabel('Salinity PSU')\n",
    "ax[0][1].set_ylabel('[NH$_4$] µmol.L$^{-1}$')\n",
    "\n",
    "ax[0][2].scatter(Smeas, NOmeasNan, c='r')\n",
    "ax[0][2].set_xlabel('Salinity PSU')\n",
    "ax[0][2].set_ylabel('[N0$_x$] µmol.L$^{-1}$')\n",
    "\n",
    "ax[0][3].scatter(Smeas, Omeas, c='green')\n",
    "ax[0][3].set_xlabel('Salinity PSU')\n",
    "ax[0][3].set_ylabel('[0$_2$] mg.L$^{-1}$')\n",
    "\n",
    "#### second line ####\n",
    "\n",
    "ax[1][0].scatter(NhmeasNan, NmeasNan, c='orange', marker='+', s=60)\n",
    "ax[1][0].set_xlabel('[NH$_4$] µmol.L$^{-1}$')\n",
    "ax[1][0].set_ylabel('[N$_2$O] nmol.L$^{-1}$')\n",
    "\n",
    "ax[1][1].scatter(NOmeasNan, NmeasNan, c='r', marker = '+', s=60)\n",
    "ax[1][1].set_xlabel('[NO$_x$] µmol.L$^{-1}$')\n",
    "ax[1][1].set_ylabel('[N$_2$O] nmol.L$^{-1}$')\n",
    "\n",
    "ax[1][2].scatter(Omeas, NmeasNan, c='green', marker='+', s=60)\n",
    "ax[1][2].set_xlabel('[O$_2$] µmol.L$^{-1}$')\n",
    "ax[1][2].set_ylabel('[N$_2$O] nmol.L$^{-1}$')\n",
    "\n",
    "ax[1][3].scatter(Smeas, Flux)\n",
    "ax[1][3].set_xlabel('Salinity PSU')\n",
    "ax[1][3].set_ylabel('[N$_2$O] Fluxes µmol.m$^{-2}$.hour$^{-1}$')"
   ]
  }
 ],
 "metadata": {
  "kernelspec": {
   "display_name": "Python 3 (ipykernel)",
   "language": "python",
   "name": "python3"
  },
  "language_info": {
   "codemirror_mode": {
    "name": "ipython",
    "version": 3
   },
   "file_extension": ".py",
   "mimetype": "text/x-python",
   "name": "python",
   "nbconvert_exporter": "python",
   "pygments_lexer": "ipython3",
   "version": "3.10.9"
  }
 },
 "nbformat": 4,
 "nbformat_minor": 5
}
