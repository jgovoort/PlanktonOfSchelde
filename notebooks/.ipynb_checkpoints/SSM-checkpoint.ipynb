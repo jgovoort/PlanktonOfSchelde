{
 "cells": [
  {
   "cell_type": "markdown",
   "id": "48045a0e-401d-4c26-9f00-85e2ec933855",
   "metadata": {},
   "source": [
    "# POS Steady-State Modelling"
   ]
  },
  {
   "cell_type": "code",
   "execution_count": 1,
   "id": "8136ad56-bbda-4362-8984-4d0593ee4ee5",
   "metadata": {},
   "outputs": [],
   "source": [
    "import matplotlib.pyplot as plt\n",
    "import numpy as np\n",
    "import pandas as pd"
   ]
  },
  {
   "cell_type": "code",
   "execution_count": 2,
   "id": "3a03411f-1920-4d1b-88a6-2fe10b5558b6",
   "metadata": {},
   "outputs": [],
   "source": [
    "lineS = [0, 35]\n",
    "Cmin = 20\n",
    "Cmax = 40"
   ]
  },
  {
   "cell_type": "code",
   "execution_count": 3,
   "id": "71da2b92-ed8d-45a0-96a0-e234daea2cf7",
   "metadata": {},
   "outputs": [],
   "source": [
    "msrS = [0,2,5,6,8,10,22,23,25,27]\n",
    "msrC = [40, 30, 27, 26,22,24,29,25,22,21]"
   ]
  },
  {
   "cell_type": "code",
   "execution_count": 4,
   "id": "569c527e-8832-490a-9e2c-59304c2591d3",
   "metadata": {},
   "outputs": [
    {
     "data": {
      "image/png": "[encoded data removed]",
      "text/plain": [
       "<Figure size 640x480 with 1 Axes>"
      ]
     },
     "metadata": {},
     "output_type": "display_data"
    }
   ],
   "source": [
    "plt.plot(lineS, [Cmax, Cmin], c='r', linestyle = '--')\n",
    "plt.scatter(msrS, msrC)\n",
    "plt.xlabel('Salinity')\n",
    "plt.ylabel('Concentration')\n",
    "plt.show()"
   ]
  },
  {
   "cell_type": "markdown",
   "id": "a28c0d3f-5269-4122-90fb-3355d18d386b",
   "metadata": {},
   "source": [
    "# Weiss, 1970 : Computation of oxygen saturation"
   ]
  },
  {
   "cell_type": "code",
   "execution_count": 64,
   "id": "f6e0f635-b238-447c-a9da-79ec3cc8b732",
   "metadata": {},
   "outputs": [],
   "source": [
    "'''\n",
    "T is in Celsius\n",
    "S in permille\n",
    "P in atm\n",
    "'''\n",
    "def oxygen_weiss(T,S,P=1):\n",
    "    T += 273.15 #converting into Kelvin\n",
    "    \n",
    "    \n",
    "    A1 = -173.4292\n",
    "    A2 = 249.6339\n",
    "    A3 = 143.3483\n",
    "    A4 = -21.8492\n",
    "    B1 = -0.033096\n",
    "    B2 = 0.014259\n",
    "    B3 = -0.0017000\n",
    "    \n",
    "    C = A1 + A2*(100/T) + A3*np.log(T/100) + A4*(T/100) + S*(B1 + B2*(T/100) + B3*(T/100)**2) #mL/L\n",
    "    C = np.exp(C)\n",
    "    print(C, 'mL/L')\n",
    "    #convert into mg/L\n",
    "    #P = 1\n",
    "    V = (C/1000)\n",
    "    R = 0.0821\n",
    "    \n",
    "    n = (P*V)/(R*T)\n",
    "    \n",
    "    #print(n, 'mol/L')\n",
    "    m = n*32.0*(1000) # convert from mol/L to mg/L \n",
    "    #print(m, 'mg/L')\n",
    "    return m\n",
    "    "
   ]
  },
  {
   "cell_type": "code",
   "execution_count": 66,
   "id": "ad902ba5-7707-41b0-9b11-805e661f6828",
   "metadata": {},
   "outputs": [
    {
     "name": "stdout",
     "output_type": "stream",
     "text": [
      "8.913135352154113 mL/L\n",
      "12.718506550162909 mg/L\n"
     ]
    }
   ],
   "source": [
    "tt = oxygen_weiss(0,20) \n",
    "print(tt, 'mg/L')"
   ]
  },
  {
   "cell_type": "markdown",
   "id": "f774b254-a215-488b-8bd9-68596a15a5e8",
   "metadata": {},
   "source": [
    "# relationship of Weiss and Price (1980).\n",
    "Determine the N$_2$0 saturation. https://doi.org/10.1016/0304-4203(80)90024-9"
   ]
  },
  {
   "cell_type": "markdown",
   "id": "66722f97-c68e-492e-8e0a-a2b629afcb5e",
   "metadata": {},
   "source": [
    "## N2O saturation"
   ]
  },
  {
   "cell_type": "code",
   "execution_count": 67,
   "id": "dcbd05eb-d518-4c2a-8d2f-8fefe19663ed",
   "metadata": {},
   "outputs": [],
   "source": [
    "def weiss_relation(P,T,S) :\n",
    "    \n",
    "\n",
    "    TK = 273.15\n",
    "    T += TK\n",
    "    #S = 35\n",
    "    x = 334.5*10**-9\n",
    "    \n",
    "    A1 = -165.8806  \n",
    "    A2 = 222.8743\n",
    "    A3 = 92.0792\n",
    "    A4 = -1.48425\n",
    "    B1 = - 0.056235\n",
    "    B2 = 0.031619 \n",
    "    B3 = - 0.0048472 \n",
    "\n",
    "    F = A1 + A2*(100/T) + A3*np.log(T/100) + A4*(T/100)**2 + S*(B1 + B2*(T/100) + B3*(T/100)**2)\n",
    "    F = np.exp(F)\n",
    "    \n",
    "    C = x * F\n",
    "    print(C, 'mol.L')\n",
    "    \n",
    "    return C"
   ]
  },
  {
   "cell_type": "code",
   "execution_count": 68,
   "id": "a643e2eb-efa3-47d3-91f5-4b712342fadc",
   "metadata": {},
   "outputs": [
    {
     "name": "stdout",
     "output_type": "stream",
     "text": [
      "1.3061872568332997e-08 mol.L\n"
     ]
    }
   ],
   "source": [
    "C = weiss_relation(1, 5,35)"
   ]
  },
  {
   "cell_type": "markdown",
   "id": "02cd4a0a-5d2c-42a7-8ebe-21d5057681e8",
   "metadata": {},
   "source": [
    "### Calculating the N2O Flux"
   ]
  },
  {
   "cell_type": "code",
   "execution_count": 69,
   "id": "65948cd9-9dbc-404d-b13e-e5e58b7c98cb",
   "metadata": {},
   "outputs": [],
   "source": [
    "'''\n",
    "M = N2O measurement in mol.L**-1\n",
    "t = Temperature in celcius\n",
    "S = Salinity in PSU\n",
    "u = wind speed (m/s)\n",
    "A = surface area (default = 1 m**2)\n",
    "P = Pressure (1 atm)\n",
    "'''\n",
    "\n",
    "def Wanninkhof(M, t, S, u=5, A=1, P=1) :\n",
    "\n",
    "    kw = 2.0 + 0.24*u**2\n",
    "    Sc = 2301.1 - 151.1*t + 4.7364*t**2 - 0.059431*t**3 #Wanninkhof 1992\n",
    "\n",
    "    k = kw * (Sc/600)**-.5 #in cm/hour\n",
    "    k = k/((3600)*100) #convert into m/s\n",
    "    \n",
    "    C = weiss_relation(P, t, S)\n",
    "    \n",
    "    \n",
    "    F = k*A*((M-C)*1000) #*1000 to convert in m^3\n",
    "    \n",
    "    print(F*60*60*24*10**6, 'µmol/m²/day')\n",
    "    print(F, 'mol/m²/s')\n",
    "    return F "
   ]
  },
  {
   "cell_type": "code",
   "execution_count": 70,
   "id": "933864d2-ad06-4b1d-b570-bf6144c203a2",
   "metadata": {},
   "outputs": [
    {
     "name": "stdout",
     "output_type": "stream",
     "text": [
      "1.0874729136800223e-08 mol.L\n",
      "80.12739638825968 µmol/m²/day\n",
      "9.274004211604129e-10 mol/m²/s\n"
     ]
    },
    {
     "data": {
      "text/plain": [
       "9.274004211604129e-10"
      ]
     },
     "execution_count": 70,
     "metadata": {},
     "output_type": "execute_result"
    }
   ],
   "source": [
    "Wanninkhof(70*10**-9,10,35)"
   ]
  },
  {
   "cell_type": "markdown",
   "id": "cf4f83e4-3f8d-4e2c-b8dd-cd56d7a74d4d",
   "metadata": {},
   "source": [
    "### Importing temperature, salinity and [N2O] data"
   ]
  },
  {
   "cell_type": "code",
   "execution_count": 71,
   "id": "178858b7-ca79-46dc-a506-277a538706af",
   "metadata": {},
   "outputs": [],
   "source": [
    "root = 'D:/GitHub/PlanktonOfSchelde/'"
   ]
  },
  {
   "cell_type": "code",
   "execution_count": 72,
   "id": "06578b73-200a-4ebd-9852-88d4f547c1f1",
   "metadata": {},
   "outputs": [],
   "source": [
    "df = pd.read_csv(root+'data/GC-DATA.csv', delimiter=';', decimal=',')"
   ]
  },
  {
   "cell_type": "code",
   "execution_count": 73,
   "id": "f69e22b3-99c3-4589-b1ac-55d9e4e4c4f1",
   "metadata": {},
   "outputs": [
    {
     "data": {
      "text/html": [
       "<div>\n",
       "<style scoped>\n",
       "    .dataframe tbody tr th:only-of-type {\n",
       "        vertical-align: middle;\n",
       "    }\n",
       "\n",
       "    .dataframe tbody tr th {\n",
       "        vertical-align: top;\n",
       "    }\n",
       "\n",
       "    .dataframe thead th {\n",
       "        text-align: right;\n",
       "    }\n",
       "</style>\n",
       "<table border=\"1\" class=\"dataframe\">\n",
       "  <thead>\n",
       "    <tr style=\"text-align: right;\">\n",
       "      <th></th>\n",
       "      <th>Station</th>\n",
       "      <th>Latitude (N)</th>\n",
       "      <th>Longitude (E)</th>\n",
       "      <th>Tmean (°C)</th>\n",
       "      <th>Salinity PSU</th>\n",
       "      <th>N2O (nM)</th>\n",
       "      <th>NH4 (µmol/L)</th>\n",
       "      <th>NOx (µmol/L)</th>\n",
       "      <th>O2 dissous winkler (mg/L)</th>\n",
       "      <th>method</th>\n",
       "    </tr>\n",
       "  </thead>\n",
       "  <tbody>\n",
       "    <tr>\n",
       "      <th>0</th>\n",
       "      <td>S01</td>\n",
       "      <td>51.416033</td>\n",
       "      <td>3.583233</td>\n",
       "      <td>7.00</td>\n",
       "      <td>27.81</td>\n",
       "      <td>15.23</td>\n",
       "      <td>5.98</td>\n",
       "      <td>104.17</td>\n",
       "      <td>7.46</td>\n",
       "      <td>CTD Niskin bottle</td>\n",
       "    </tr>\n",
       "    <tr>\n",
       "      <th>1</th>\n",
       "      <td>S01B</td>\n",
       "      <td>51.415917</td>\n",
       "      <td>3.571033</td>\n",
       "      <td>6.90</td>\n",
       "      <td>29.70</td>\n",
       "      <td>18.03</td>\n",
       "      <td>4.97</td>\n",
       "      <td>61.85</td>\n",
       "      <td>7.12</td>\n",
       "      <td>CTD Niskin bottle</td>\n",
       "    </tr>\n",
       "    <tr>\n",
       "      <th>2</th>\n",
       "      <td>S04</td>\n",
       "      <td>51.344417</td>\n",
       "      <td>3.846533</td>\n",
       "      <td>6.89</td>\n",
       "      <td>22.38</td>\n",
       "      <td>19.40</td>\n",
       "      <td>5.72</td>\n",
       "      <td>133.47</td>\n",
       "      <td>7.79</td>\n",
       "      <td>seawater tap</td>\n",
       "    </tr>\n",
       "    <tr>\n",
       "      <th>3</th>\n",
       "      <td>S09</td>\n",
       "      <td>51.371600</td>\n",
       "      <td>4.082783</td>\n",
       "      <td>7.29</td>\n",
       "      <td>11.04</td>\n",
       "      <td>27.88</td>\n",
       "      <td>5.61</td>\n",
       "      <td>231.12</td>\n",
       "      <td>7.31</td>\n",
       "      <td>CTD Niskin bottle</td>\n",
       "    </tr>\n",
       "    <tr>\n",
       "      <th>4</th>\n",
       "      <td>S12</td>\n",
       "      <td>51.364000</td>\n",
       "      <td>4.225633</td>\n",
       "      <td>7.58</td>\n",
       "      <td>6.64</td>\n",
       "      <td>33.88</td>\n",
       "      <td>24.47</td>\n",
       "      <td>274.70</td>\n",
       "      <td>7.00</td>\n",
       "      <td>CTD Niskin bottle</td>\n",
       "    </tr>\n",
       "    <tr>\n",
       "      <th>5</th>\n",
       "      <td>S15</td>\n",
       "      <td>51.312417</td>\n",
       "      <td>4.272633</td>\n",
       "      <td>7.59</td>\n",
       "      <td>8.89</td>\n",
       "      <td>29.41</td>\n",
       "      <td>10.38</td>\n",
       "      <td>259.63</td>\n",
       "      <td>7.17</td>\n",
       "      <td>seawater tap</td>\n",
       "    </tr>\n",
       "    <tr>\n",
       "      <th>6</th>\n",
       "      <td>S15B</td>\n",
       "      <td>51.324033</td>\n",
       "      <td>4.274983</td>\n",
       "      <td>7.26</td>\n",
       "      <td>3.79</td>\n",
       "      <td>40.29</td>\n",
       "      <td>15.41</td>\n",
       "      <td>291.45</td>\n",
       "      <td>6.48</td>\n",
       "      <td>CTD Niskin bottle</td>\n",
       "    </tr>\n",
       "    <tr>\n",
       "      <th>7</th>\n",
       "      <td>S22</td>\n",
       "      <td>51.220633</td>\n",
       "      <td>4.392817</td>\n",
       "      <td>7.21</td>\n",
       "      <td>3.61</td>\n",
       "      <td>43.58</td>\n",
       "      <td>19.97</td>\n",
       "      <td>296.48</td>\n",
       "      <td>6.92</td>\n",
       "      <td>seawater tap</td>\n",
       "    </tr>\n",
       "    <tr>\n",
       "      <th>8</th>\n",
       "      <td>S22B</td>\n",
       "      <td>51.216267</td>\n",
       "      <td>4.389483</td>\n",
       "      <td>7.06</td>\n",
       "      <td>0.49</td>\n",
       "      <td>74.40</td>\n",
       "      <td>44.61</td>\n",
       "      <td>321.60</td>\n",
       "      <td>5.76</td>\n",
       "      <td>CTD Niskin bottle</td>\n",
       "    </tr>\n",
       "    <tr>\n",
       "      <th>9</th>\n",
       "      <td>T01</td>\n",
       "      <td>51.372900</td>\n",
       "      <td>4.144217</td>\n",
       "      <td>7.64</td>\n",
       "      <td>8.04</td>\n",
       "      <td>22.37</td>\n",
       "      <td>9.80</td>\n",
       "      <td>211.05</td>\n",
       "      <td>7.35</td>\n",
       "      <td>seawater tap</td>\n",
       "    </tr>\n",
       "    <tr>\n",
       "      <th>10</th>\n",
       "      <td>T02</td>\n",
       "      <td>51.340633</td>\n",
       "      <td>4.269417</td>\n",
       "      <td>7.64</td>\n",
       "      <td>8.05</td>\n",
       "      <td>-999.00</td>\n",
       "      <td>16.00</td>\n",
       "      <td>87.10</td>\n",
       "      <td>7.34</td>\n",
       "      <td>seawater tap</td>\n",
       "    </tr>\n",
       "    <tr>\n",
       "      <th>11</th>\n",
       "      <td>T04</td>\n",
       "      <td>51.429883</td>\n",
       "      <td>3.968567</td>\n",
       "      <td>6.71</td>\n",
       "      <td>16.17</td>\n",
       "      <td>22.43</td>\n",
       "      <td>8.95</td>\n",
       "      <td>179.04</td>\n",
       "      <td>7.24</td>\n",
       "      <td>seawater tap</td>\n",
       "    </tr>\n",
       "    <tr>\n",
       "      <th>12</th>\n",
       "      <td>T05</td>\n",
       "      <td>51.398900</td>\n",
       "      <td>3.951933</td>\n",
       "      <td>6.60</td>\n",
       "      <td>18.77</td>\n",
       "      <td>-999.00</td>\n",
       "      <td>7.94</td>\n",
       "      <td>157.88</td>\n",
       "      <td>7.29</td>\n",
       "      <td>seawater tap</td>\n",
       "    </tr>\n",
       "    <tr>\n",
       "      <th>13</th>\n",
       "      <td>T06</td>\n",
       "      <td>51.352700</td>\n",
       "      <td>3.873800</td>\n",
       "      <td>6.66</td>\n",
       "      <td>20.72</td>\n",
       "      <td>23.00</td>\n",
       "      <td>7.78</td>\n",
       "      <td>139.98</td>\n",
       "      <td>7.22</td>\n",
       "      <td>seawater tap</td>\n",
       "    </tr>\n",
       "    <tr>\n",
       "      <th>14</th>\n",
       "      <td>T07</td>\n",
       "      <td>51.368017</td>\n",
       "      <td>3.749600</td>\n",
       "      <td>6.82</td>\n",
       "      <td>24.48</td>\n",
       "      <td>20.71</td>\n",
       "      <td>-999.00</td>\n",
       "      <td>110.68</td>\n",
       "      <td>7.00</td>\n",
       "      <td>seawater tap</td>\n",
       "    </tr>\n",
       "  </tbody>\n",
       "</table>\n",
       "</div>"
      ],
      "text/plain": [
       "   Station  Latitude (N)  Longitude (E)  Tmean (°C)  Salinity PSU  N2O (nM)  \\\n",
       "0      S01     51.416033       3.583233        7.00         27.81     15.23   \n",
       "1     S01B     51.415917       3.571033        6.90         29.70     18.03   \n",
       "2      S04     51.344417       3.846533        6.89         22.38     19.40   \n",
       "3      S09     51.371600       4.082783        7.29         11.04     27.88   \n",
       "4      S12     51.364000       4.225633        7.58          6.64     33.88   \n",
       "5      S15     51.312417       4.272633        7.59          8.89     29.41   \n",
       "6     S15B     51.324033       4.274983        7.26          3.79     40.29   \n",
       "7      S22     51.220633       4.392817        7.21          3.61     43.58   \n",
       "8     S22B     51.216267       4.389483        7.06          0.49     74.40   \n",
       "9      T01     51.372900       4.144217        7.64          8.04     22.37   \n",
       "10     T02     51.340633       4.269417        7.64          8.05   -999.00   \n",
       "11     T04     51.429883       3.968567        6.71         16.17     22.43   \n",
       "12     T05     51.398900       3.951933        6.60         18.77   -999.00   \n",
       "13     T06     51.352700       3.873800        6.66         20.72     23.00   \n",
       "14     T07     51.368017       3.749600        6.82         24.48     20.71   \n",
       "\n",
       "    NH4 (µmol/L)  NOx (µmol/L)  O2 dissous winkler (mg/L)             method  \n",
       "0           5.98        104.17                       7.46  CTD Niskin bottle  \n",
       "1           4.97         61.85                       7.12  CTD Niskin bottle  \n",
       "2           5.72        133.47                       7.79       seawater tap  \n",
       "3           5.61        231.12                       7.31  CTD Niskin bottle  \n",
       "4          24.47        274.70                       7.00  CTD Niskin bottle  \n",
       "5          10.38        259.63                       7.17       seawater tap  \n",
       "6          15.41        291.45                       6.48  CTD Niskin bottle  \n",
       "7          19.97        296.48                       6.92       seawater tap  \n",
       "8          44.61        321.60                       5.76  CTD Niskin bottle  \n",
       "9           9.80        211.05                       7.35       seawater tap  \n",
       "10         16.00         87.10                       7.34       seawater tap  \n",
       "11          8.95        179.04                       7.24       seawater tap  \n",
       "12          7.94        157.88                       7.29       seawater tap  \n",
       "13          7.78        139.98                       7.22       seawater tap  \n",
       "14       -999.00        110.68                       7.00       seawater tap  "
      ]
     },
     "execution_count": 73,
     "metadata": {},
     "output_type": "execute_result"
    }
   ],
   "source": [
    "df"
   ]
  },
  {
   "cell_type": "code",
   "execution_count": 74,
   "id": "3ef2178e-f845-4b55-bed9-21438da9f43a",
   "metadata": {},
   "outputs": [],
   "source": [
    "Tmeas = df['Tmean (°C)']\n",
    "Smeas = df['Salinity PSU']\n",
    "Nmeas = df['N2O (nM)']\n",
    "Nhmeas = df['NH4 (µmol/L)']\n",
    "NOmeas = df['NOx (µmol/L)'] \n",
    "Omeas = df['O2 dissous winkler (mg/L)']\n",
    "\n",
    "m = np.where(df.method=='CTD Niskin bottle','+','^')\n",
    "\n",
    "NmeasNan = np.where(Nmeas == -999, np.nan, Nmeas)\n",
    "NhmeasNan = np.where(Nhmeas == -999, np.nan, Nhmeas)\n",
    "NOmeasNan = np.where(NOmeas == -999, np.nan, NOmeas)"
   ]
  },
  {
   "cell_type": "markdown",
   "id": "9e7af50a-4d16-44ba-a7fb-54fbfff90605",
   "metadata": {},
   "source": [
    "## Wind"
   ]
  },
  {
   "cell_type": "code",
   "execution_count": 103,
   "id": "95ee77c7-ee69-48a4-a026-3abd4d785a29",
   "metadata": {},
   "outputs": [],
   "source": [
    "import netCDF4 as nc\n",
    "import datetime"
   ]
  },
  {
   "cell_type": "code",
   "execution_count": 104,
   "id": "0c8f1b1c-abe3-44d0-a0bd-c72895aa4c03",
   "metadata": {},
   "outputs": [],
   "source": [
    "def find_nearest(array, value):\n",
    "    array = np.asarray(array)\n",
    "    idx = (np.abs(array - value)).argmin()\n",
    "    return idx"
   ]
  },
  {
   "cell_type": "code",
   "execution_count": 105,
   "id": "bf529a5a-a481-4b29-8c46-02ef75cdd141",
   "metadata": {},
   "outputs": [],
   "source": [
    "data = 'D:/GitHub/PlanktonOfSchelde/data/wind_schelde.nc'\n",
    "ds = nc.Dataset(data)"
   ]
  },
  {
   "cell_type": "code",
   "execution_count": 106,
   "id": "54bbec0c-87ed-42da-88fd-5c3065d44c24",
   "metadata": {},
   "outputs": [],
   "source": [
    "LON = list(ds['longitude'][:])\n",
    "LAT = list(ds['latitude'][:])\n",
    "\n",
    "uwind = np.array(ds['u10'][:])\n",
    "vwind = np.array(ds['v10'][:])"
   ]
  },
  {
   "cell_type": "code",
   "execution_count": 114,
   "id": "82e5b12c-2bb7-47f2-8faa-c0c8a3fd660f",
   "metadata": {},
   "outputs": [
    {
     "data": {
      "text/plain": [
       "(8, 3, (26, 3, 8))"
      ]
     },
     "execution_count": 114,
     "metadata": {},
     "output_type": "execute_result"
    }
   ],
   "source": [
    "len(LON), len(LAT), uwind.shape"
   ]
  },
  {
   "cell_type": "code",
   "execution_count": 108,
   "id": "af4e5650-9a22-404d-967b-50df27bacbf0",
   "metadata": {},
   "outputs": [],
   "source": [
    "time = np.array(ds['time'][:])\n",
    "origin = datetime.datetime(1900,1,1)\n",
    "Tnc = []\n",
    "for h in time :\n",
    "    Tnc.append(origin + datetime.timedelta(hours = float(h)))"
   ]
  },
  {
   "cell_type": "code",
   "execution_count": 110,
   "id": "62ee8d45-44ad-4b3e-89e2-3f6dbbb8063c",
   "metadata": {},
   "outputs": [
    {
     "data": {
      "text/plain": [
       "[datetime.datetime(2023, 3, 10, 8, 0),\n",
       " datetime.datetime(2023, 3, 10, 9, 0),\n",
       " datetime.datetime(2023, 3, 10, 10, 0),\n",
       " datetime.datetime(2023, 3, 10, 11, 0),\n",
       " datetime.datetime(2023, 3, 10, 12, 0),\n",
       " datetime.datetime(2023, 3, 10, 13, 0),\n",
       " datetime.datetime(2023, 3, 10, 14, 0),\n",
       " datetime.datetime(2023, 3, 10, 15, 0),\n",
       " datetime.datetime(2023, 3, 10, 16, 0),\n",
       " datetime.datetime(2023, 3, 10, 17, 0),\n",
       " datetime.datetime(2023, 3, 10, 18, 0),\n",
       " datetime.datetime(2023, 3, 10, 19, 0),\n",
       " datetime.datetime(2023, 3, 10, 20, 0)]"
      ]
     },
     "execution_count": 110,
     "metadata": {},
     "output_type": "execute_result"
    }
   ],
   "source": [
    "Tnc[0:13]"
   ]
  },
  {
   "cell_type": "code",
   "execution_count": 116,
   "id": "84fab64e-1440-4f13-b521-cbba6b401cb1",
   "metadata": {},
   "outputs": [],
   "source": [
    "windDay1 = []\n",
    "windDay2 = []\n",
    "for i in range(len(df['Latitude (N)'])) :\n",
    "    lat = df['Latitude (N)'][i]\n",
    "    lon = df['Longitude (E)'][i]\n",
    "    idxLat = find_nearest(LAT, lat)\n",
    "    idxLong = find_nearest(LON, lon)\n",
    "    \n",
    "    for d in range(2) :\n",
    "        U = np.mean(uwind[13*d:13+13*d,idxLat,idxLong])\n",
    "        V = np.mean(vwind[13*d:13+13*d,idxLat,idxLong])\n",
    "        res = np.sqrt(U**2+V**2)\n",
    "        if d == 0 :\n",
    "            windDay1.append(res)\n",
    "        else :\n",
    "            windDay2.append(res)"
   ]
  },
  {
   "cell_type": "code",
   "execution_count": 119,
   "id": "2ad7ffb3-1aa1-4cb4-afa5-ec9ff3b0269e",
   "metadata": {},
   "outputs": [
    {
     "data": {
      "text/plain": [
       "[6.891958360911159,\n",
       " 6.891958360911159,\n",
       " 4.957516759309775,\n",
       " 4.851846896366147,\n",
       " 4.784741203052846,\n",
       " 4.784741203052846,\n",
       " 4.784741203052846,\n",
       " 4.7451389669639905,\n",
       " 4.7451389669639905,\n",
       " 4.784741203052846,\n",
       " 4.784741203052846,\n",
       " 5.034748964428292,\n",
       " 5.034748964428292,\n",
       " 4.957516759309775,\n",
       " 4.957516759309775]"
      ]
     },
     "execution_count": 119,
     "metadata": {},
     "output_type": "execute_result"
    }
   ],
   "source": [
    "windDay1 #m/s"
   ]
  },
  {
   "cell_type": "markdown",
   "id": "230fb105-9f37-41b9-aa40-81b40b0821ef",
   "metadata": {},
   "source": [
    "### Computing the N2O fluxes"
   ]
  },
  {
   "cell_type": "code",
   "execution_count": 90,
   "id": "a4216b8d-808c-46af-a35c-d828410fa25e",
   "metadata": {
    "scrolled": true,
    "tags": []
   },
   "outputs": [
    {
     "name": "stdout",
     "output_type": "stream",
     "text": [
      "1.26265369831554e-08 mol.L\n",
      "7.084623230319474 mL/L\n",
      "1.26265369831554e-08 mol.L\n",
      "3.209829988960787 µmol/m²/day\n",
      "3.715081005741652e-11 mol/m²/s\n",
      "1.25378130497516e-08 mol.L\n",
      "7.014691432110885 mL/L\n",
      "1.25378130497516e-08 mol.L\n",
      "6.749622696191454 µmol/m²/day\n",
      "7.812063305777145e-11 mol/m²/s\n",
      "1.3077067013513547e-08 mol.L\n",
      "7.358081557369726 mL/L\n",
      "1.3077067013513547e-08 mol.L\n",
      "7.768068422236194 µmol/m²/day\n",
      "8.990819933143743e-11 mol/m²/s\n",
      "1.3740595719278236e-08 mol.L\n",
      "7.843992520105031 mL/L\n",
      "1.3740595719278236e-08 mol.L\n",
      "17.59556124279704 µmol/m²/day\n",
      "2.036523291990398e-10 mol/m²/s\n",
      "1.393449474252567e-08 mol.L\n",
      "8.013945076764442 mL/L\n",
      "1.393449474252567e-08 mol.L\n",
      "25.052181274784317 µmol/m²/day\n",
      "2.8995580179148513e-10 mol/m²/s\n",
      "1.375261828885901e-08 mol.L\n",
      "7.896317308435741 mL/L\n",
      "1.375261828885901e-08 mol.L\n",
      "19.672443941439433 µmol/m²/day\n",
      "2.2769032339628975e-10 mol/m²/s\n",
      "1.4335078971509275e-08 mol.L\n",
      "8.227240193105516 mL/L\n",
      "1.4335078971509275e-08 mol.L\n",
      "32.268162341157414 µmol/m²/day\n",
      "3.7347410117080335e-10 mol/m²/s\n",
      "1.4377168048806516e-08 mol.L\n",
      "8.246979904316175 mL/L\n",
      "1.4377168048806516e-08 mol.L\n",
      "36.24794322173985 µmol/m²/day\n",
      "4.1953637988124823e-10 mol/m²/s\n",
      "1.4719035226143454e-08 mol.L\n",
      "8.446814125327998 mL/L\n",
      "1.4719035226143454e-08 mol.L\n",
      "73.72310584114037 µmol/m²/day\n",
      "8.532766879761616e-10 mol/m²/s\n",
      "1.3793001910543263e-08 mol.L\n",
      "7.930208740245886 mL/L\n",
      "1.3793001910543263e-08 mol.L\n",
      "10.793632171669664 µmol/m²/day\n",
      "1.2492629828321371e-10 mol/m²/s\n",
      "1.3792220034937923e-08 mol.L\n",
      "7.929696348900219 mL/L\n",
      "1.3641029401984632e-08 mol.L\n",
      "7.694463480937026 mL/L\n",
      "1.3641029401984632e-08 mol.L\n",
      "10.735323108383346 µmol/m²/day\n",
      "1.2425142486554797e-10 mol/m²/s\n",
      "1.3496018070298521e-08 mol.L\n",
      "7.5855292846683255 mL/L\n",
      "1.3316265672912912e-08 mol.L\n",
      "7.479029596024181 mL/L\n",
      "1.3316265672912912e-08 mol.L\n",
      "11.809185016061432 µmol/m²/day\n",
      "1.3668038213034067e-10 mol/m²/s\n",
      "1.2955324325559305e-08 mol.L\n",
      "7.270466712733441 mL/L\n",
      "1.2955324325559305e-08 mol.L\n",
      "9.505602770119362 µmol/m²/day\n",
      "1.100185505800852e-10 mol/m²/s\n"
     ]
    }
   ],
   "source": [
    "Flux = []\n",
    "satN2O = []\n",
    "satO2 = []\n",
    "\n",
    "for i in range(len(Tmeas)) :\n",
    "\n",
    "    N2O = Nmeas[i]\n",
    "    temp = Tmeas[i]\n",
    "    Sali = Smeas[i]\n",
    "    sat = weiss_relation(1,temp,Sali)\n",
    "    satN2O.append(sat*10**9)\n",
    "    satO2.append(oxygen_weiss(temp,Sali))\n",
    "    if N2O != -999 :\n",
    "        N2O = Nmeas[i]*10**-9\n",
    "        f = Wanninkhof(N2O,temp,Sali)\n",
    "        f = f*3600*10**6 #convert in µmol.m**-2.hour**-1\n",
    "        Flux.append(f) \n",
    "    else :\n",
    "        Flux.append(-999)\n",
    "satN2O = np.array(satN2O)\n",
    "satO2 = np.array(satO2)"
   ]
  },
  {
   "cell_type": "code",
   "execution_count": 76,
   "id": "1da92a0e-918a-4e91-9939-71189571bebd",
   "metadata": {},
   "outputs": [],
   "source": [
    "Flux = np.array(Flux)\n",
    "Flux = np.where(Flux==-999, np.nan, Flux)"
   ]
  },
  {
   "cell_type": "code",
   "execution_count": 77,
   "id": "54aa5faf-95ba-4962-8ae7-06c046286071",
   "metadata": {},
   "outputs": [
    {
     "data": {
      "text/plain": [
       "array([0.13374292, 0.28123428, 0.32366952, 0.73314839, 1.04384089,\n",
       "       0.81968516, 1.34450676, 1.51033097, 3.07179608, 0.44973467,\n",
       "              nan, 0.44730513,        nan, 0.49204938, 0.39606678])"
      ]
     },
     "execution_count": 77,
     "metadata": {},
     "output_type": "execute_result"
    }
   ],
   "source": [
    "Flux"
   ]
  },
  {
   "cell_type": "markdown",
   "id": "3353eab8-1305-4565-b0ac-9ed2e86580e6",
   "metadata": {},
   "source": [
    "### Plotting"
   ]
  },
  {
   "cell_type": "code",
   "execution_count": 94,
   "id": "94c51bf0-82b8-40d0-b024-63e8f49c8225",
   "metadata": {},
   "outputs": [
    {
     "data": {
      "text/plain": [
       "<matplotlib.legend.Legend at 0x23756667be0>"
      ]
     },
     "execution_count": 94,
     "metadata": {},
     "output_type": "execute_result"
    },
    {
     "data": {
      "image/png": "[encoded data removed]",
      "text/plain": [
       "<Figure size 2500x500 with 4 Axes>"
      ]
     },
     "metadata": {},
     "output_type": "display_data"
    }
   ],
   "source": [
    "import numpy_indexed as npi\n",
    "fig, ax = plt.subplots(nrows = 1, ncols=4, figsize=(25,5))\n",
    "\n",
    "#### first line ####\n",
    "for i in range(len(Smeas)):\n",
    "    ax[0].scatter(Smeas[i], NmeasNan[i], c='blue' , marker=m[i])\n",
    "    ax[0].set_xlabel('Salinity PSU', fontsize=14)\n",
    "    ax[0].set_ylabel('[N$_2$O] nmol.L$^{-1}$', fontsize=14)\n",
    "\n",
    "    ax[1].scatter(Smeas[i], NhmeasNan[i], c='orange', marker=m[i])\n",
    "    ax[1].set_xlabel('Salinity PSU', fontsize=14)\n",
    "    ax[1].set_ylabel('[NH$_4$] µmol.L$^{-1}$', fontsize=14)\n",
    "\n",
    "    ax[2].scatter(Smeas[i], NOmeasNan[i], c='r', marker=m[i])\n",
    "    ax[2].set_xlabel('Salinity PSU', fontsize=14)\n",
    "    ax[2].set_ylabel('[N0$_x$] µmol.L$^{-1}$', fontsize=14)\n",
    "\n",
    "    ax[3].scatter(Smeas[i], Omeas[i], c='green', marker=m[i])\n",
    "    ax[3].set_xlabel('Salinity PSU', fontsize=14)\n",
    "    ax[3].set_ylabel('[0$_2$] mg.L$^{-1}$', fontsize=14)\n",
    "\n",
    "sort = np.argsort(np.array(Smeas))\n",
    "sortSali = np.sort(Smeas)\n",
    "    \n",
    "ax[0].plot(sortSali, satN2O[sort], c='blue', ls='--', label='N$_2$O saturation line')\n",
    "ax[0].legend(fontsize=14)\n",
    "ax[3].plot(sortSali, satO2[sort], c='green', ls='--', label='O$_2$ saturation line')\n",
    "ax[3].legend(fontsize=14)"
   ]
  },
  {
   "cell_type": "code",
   "execution_count": 89,
   "id": "9409b56a-782c-4a8a-8e59-11a09a2a23ce",
   "metadata": {},
   "outputs": [
    {
     "data": {
      "text/plain": [
       "array([ 8,  7,  6,  4,  9, 10,  5,  3, 11, 12, 13,  2, 14,  0,  1],\n",
       "      dtype=int64)"
      ]
     },
     "execution_count": 89,
     "metadata": {},
     "output_type": "execute_result"
    }
   ],
   "source": [
    "sort"
   ]
  },
  {
   "cell_type": "code",
   "execution_count": 79,
   "id": "c37ea611-7f69-4e0d-b5d9-0043d8c52477",
   "metadata": {},
   "outputs": [
    {
     "data": {
      "text/plain": [
       "Text(0, 0.5, '[N$_2$O] Fluxes µmol.m$^{-2}$.hour$^{-1}$')"
      ]
     },
     "execution_count": 79,
     "metadata": {},
     "output_type": "execute_result"
    },
    {
     "data": {
      "image/png": "[encoded data removed]",
      "text/plain": [
       "<Figure size 2200x1000 with 8 Axes>"
      ]
     },
     "metadata": {},
     "output_type": "display_data"
    }
   ],
   "source": [
    "fig, ax = plt.subplots(nrows = 2, ncols=4, figsize=(22,10))\n",
    "\n",
    "#### first line ####\n",
    "\n",
    "ax[0][0].scatter(Smeas, NmeasNan)\n",
    "ax[0][0].set_xlabel('Salinity PSU')\n",
    "ax[0][0].set_ylabel('[N$_2$O] nmol.L$^{-1}$')\n",
    "\n",
    "ax[0][1].scatter(Smeas, NhmeasNan, c='orange')\n",
    "ax[0][1].set_xlabel('Salinity PSU')\n",
    "ax[0][1].set_ylabel('[NH$_4$] µmol.L$^{-1}$')\n",
    "\n",
    "ax[0][2].scatter(Smeas, NOmeasNan, c='r')\n",
    "ax[0][2].set_xlabel('Salinity PSU')\n",
    "ax[0][2].set_ylabel('[N0$_x$] µmol.L$^{-1}$')\n",
    "\n",
    "ax[0][3].scatter(Smeas, Omeas, c='green')\n",
    "ax[0][3].set_xlabel('Salinity PSU')\n",
    "ax[0][3].set_ylabel('[0$_2$] mg.L$^{-1}$')\n",
    "\n",
    "#### second line ####\n",
    "\n",
    "ax[1][0].scatter(NhmeasNan, NmeasNan, c='orange', marker='+', s=60)\n",
    "ax[1][0].set_xlabel('[NH$_4$] µmol.L$^{-1}$')\n",
    "ax[1][0].set_ylabel('[N$_2$O] nmol.L$^{-1}$')\n",
    "\n",
    "ax[1][1].scatter(NOmeasNan, NmeasNan, c='r', marker = '+', s=60)\n",
    "ax[1][1].set_xlabel('[NO$_x$] µmol.L$^{-1}$')\n",
    "ax[1][1].set_ylabel('[N$_2$O] nmol.L$^{-1}$')\n",
    "\n",
    "ax[1][2].scatter(Omeas, NmeasNan, c='green', marker='+', s=60)\n",
    "ax[1][2].set_xlabel('[O$_2$] µmol.L$^{-1}$')\n",
    "ax[1][2].set_ylabel('[N$_2$O] nmol.L$^{-1}$')\n",
    "\n",
    "ax[1][3].scatter(Smeas, Flux)\n",
    "ax[1][3].set_xlabel('Salinity PSU')\n",
    "ax[1][3].set_ylabel('[N$_2$O] Fluxes µmol.m$^{-2}$.hour$^{-1}$')"
   ]
  },
  {
   "cell_type": "code",
   "execution_count": 155,
   "id": "afdd3e47-e294-47b7-95e4-2cece0a51346",
   "metadata": {},
   "outputs": [],
   "source": [
    "out = np.array([df.Station, Flux])"
   ]
  },
  {
   "cell_type": "code",
   "execution_count": 156,
   "id": "64c8d3b0-d311-4b90-b990-75efba61e992",
   "metadata": {},
   "outputs": [],
   "source": [
    "dfout = pd.DataFrame(out.transpose(), columns=['Station','Flux µmol.m**-2.hour**-1']).to_csv('./flux_stations.csv')"
   ]
  },
  {
   "cell_type": "markdown",
   "id": "d7050283-dc60-4e27-ae18-a3c436a69254",
   "metadata": {},
   "source": [
    "## Validating the model"
   ]
  },
  {
   "cell_type": "code",
   "execution_count": 22,
   "id": "ee6ec822-089e-4eed-9190-140009e6bd3e",
   "metadata": {},
   "outputs": [],
   "source": [
    "wilde_data = pd.read_csv('C:/Users/julie/OneDrive/Desktop/GloCoas/schelde_N2O_OCT78-Q46.5.csv')"
   ]
  },
  {
   "cell_type": "code",
   "execution_count": 23,
   "id": "3aa0d872-8a8a-41c9-afe9-1ca0f8ce9732",
   "metadata": {},
   "outputs": [
    {
     "data": {
      "text/html": [
       "<div>\n",
       "<style scoped>\n",
       "    .dataframe tbody tr th:only-of-type {\n",
       "        vertical-align: middle;\n",
       "    }\n",
       "\n",
       "    .dataframe tbody tr th {\n",
       "        vertical-align: top;\n",
       "    }\n",
       "\n",
       "    .dataframe thead th {\n",
       "        text-align: right;\n",
       "    }\n",
       "</style>\n",
       "<table border=\"1\" class=\"dataframe\">\n",
       "  <thead>\n",
       "    <tr style=\"text-align: right;\">\n",
       "      <th></th>\n",
       "      <th>salinity</th>\n",
       "      <th>cNitrous</th>\n",
       "    </tr>\n",
       "  </thead>\n",
       "  <tbody>\n",
       "    <tr>\n",
       "      <th>0</th>\n",
       "      <td>1.039926</td>\n",
       "      <td>13.281284</td>\n",
       "    </tr>\n",
       "    <tr>\n",
       "      <th>1</th>\n",
       "      <td>1.104921</td>\n",
       "      <td>7.812499</td>\n",
       "    </tr>\n",
       "    <tr>\n",
       "      <th>2</th>\n",
       "      <td>2.209842</td>\n",
       "      <td>13.281284</td>\n",
       "    </tr>\n",
       "    <tr>\n",
       "      <th>3</th>\n",
       "      <td>3.314763</td>\n",
       "      <td>3.906249</td>\n",
       "    </tr>\n",
       "    <tr>\n",
       "      <th>4</th>\n",
       "      <td>3.314763</td>\n",
       "      <td>3.906249</td>\n",
       "    </tr>\n",
       "    <tr>\n",
       "      <th>5</th>\n",
       "      <td>4.127205</td>\n",
       "      <td>9.375034</td>\n",
       "    </tr>\n",
       "    <tr>\n",
       "      <th>6</th>\n",
       "      <td>5.297121</td>\n",
       "      <td>9.375034</td>\n",
       "    </tr>\n",
       "    <tr>\n",
       "      <th>7</th>\n",
       "      <td>6.174560</td>\n",
       "      <td>14.843760</td>\n",
       "    </tr>\n",
       "    <tr>\n",
       "      <th>8</th>\n",
       "      <td>9.716804</td>\n",
       "      <td>249.218757</td>\n",
       "    </tr>\n",
       "    <tr>\n",
       "      <th>9</th>\n",
       "      <td>10.984214</td>\n",
       "      <td>187.500004</td>\n",
       "    </tr>\n",
       "    <tr>\n",
       "      <th>10</th>\n",
       "      <td>12.251624</td>\n",
       "      <td>234.374997</td>\n",
       "    </tr>\n",
       "    <tr>\n",
       "      <th>11</th>\n",
       "      <td>13.356546</td>\n",
       "      <td>232.812491</td>\n",
       "    </tr>\n",
       "    <tr>\n",
       "      <th>12</th>\n",
       "      <td>16.443825</td>\n",
       "      <td>197.656246</td>\n",
       "    </tr>\n",
       "    <tr>\n",
       "      <th>13</th>\n",
       "      <td>19.726090</td>\n",
       "      <td>114.062502</td>\n",
       "    </tr>\n",
       "    <tr>\n",
       "      <th>14</th>\n",
       "      <td>21.058494</td>\n",
       "      <td>105.468706</td>\n",
       "    </tr>\n",
       "    <tr>\n",
       "      <th>15</th>\n",
       "      <td>23.235840</td>\n",
       "      <td>34.375007</td>\n",
       "    </tr>\n",
       "    <tr>\n",
       "      <th>16</th>\n",
       "      <td>25.933145</td>\n",
       "      <td>24.218794</td>\n",
       "    </tr>\n",
       "    <tr>\n",
       "      <th>17</th>\n",
       "      <td>27.395541</td>\n",
       "      <td>22.656259</td>\n",
       "    </tr>\n",
       "    <tr>\n",
       "      <th>18</th>\n",
       "      <td>28.077994</td>\n",
       "      <td>17.968771</td>\n",
       "    </tr>\n",
       "    <tr>\n",
       "      <th>19</th>\n",
       "      <td>30.060349</td>\n",
       "      <td>12.500046</td>\n",
       "    </tr>\n",
       "  </tbody>\n",
       "</table>\n",
       "</div>"
      ],
      "text/plain": [
       "     salinity    cNitrous\n",
       "0    1.039926   13.281284\n",
       "1    1.104921    7.812499\n",
       "2    2.209842   13.281284\n",
       "3    3.314763    3.906249\n",
       "4    3.314763    3.906249\n",
       "5    4.127205    9.375034\n",
       "6    5.297121    9.375034\n",
       "7    6.174560   14.843760\n",
       "8    9.716804  249.218757\n",
       "9   10.984214  187.500004\n",
       "10  12.251624  234.374997\n",
       "11  13.356546  232.812491\n",
       "12  16.443825  197.656246\n",
       "13  19.726090  114.062502\n",
       "14  21.058494  105.468706\n",
       "15  23.235840   34.375007\n",
       "16  25.933145   24.218794\n",
       "17  27.395541   22.656259\n",
       "18  28.077994   17.968771\n",
       "19  30.060349   12.500046"
      ]
     },
     "execution_count": 23,
     "metadata": {},
     "output_type": "execute_result"
    }
   ],
   "source": [
    "wilde_data"
   ]
  },
  {
   "cell_type": "code",
   "execution_count": 26,
   "id": "d29aaa97-653c-4a3e-9e3d-7ec14372cae0",
   "metadata": {},
   "outputs": [
    {
     "name": "stdout",
     "output_type": "stream",
     "text": [
      "salinity\n",
      " cNitrous\n"
     ]
    }
   ],
   "source": [
    "for a in wilde_data:\n",
    "    print(a)"
   ]
  },
  {
   "cell_type": "code",
   "execution_count": 31,
   "id": "e56cd98b-05c6-4a63-a5fb-793a8cc41f51",
   "metadata": {},
   "outputs": [
    {
     "data": {
      "text/plain": [
       "Text(0, 0.5, '[N$_2$O] nmol.L$^{-1}$')"
      ]
     },
     "execution_count": 31,
     "metadata": {},
     "output_type": "execute_result"
    },
    {
     "data": {
      "image/png": "[encoded data removed]",
      "text/plain": [
       "<Figure size 640x480 with 1 Axes>"
      ]
     },
     "metadata": {},
     "output_type": "display_data"
    }
   ],
   "source": [
    "plt.plot(wilde_data.salinity, wilde_data[' cNitrous'])\n",
    "plt.xlabel('Salinity')\n",
    "plt.ylabel(\"[N$_2$O] nmol.L$^{-1}$\")"
   ]
  },
  {
   "cell_type": "code",
   "execution_count": 41,
   "id": "1ee5f597-1cbe-4252-a02e-6ac367af2735",
   "metadata": {
    "scrolled": true,
    "tags": []
   },
   "outputs": [
    {
     "name": "stdout",
     "output_type": "stream",
     "text": [
      "1.5899190613782096e-08 mol.L\n",
      "-3.3054120568704755 µmol/m²/day\n",
      "-3.825708399155643e-11 mol/m²/s\n",
      "1.589321025201686e-08 mol.L\n",
      "-10.202839049121033 µmol/m²/day\n",
      "-1.1808841492038231e-10 mol/m²/s\n",
      "1.5791888034480757e-08 mol.L\n",
      "-3.1699300553116556 µmol/m²/day\n",
      "-3.668900526981083e-11 mol/m²/s\n",
      "1.5691211652625925e-08 mol.L\n",
      "-14.879887109808326 µmol/m²/day\n",
      "-1.7222091562278156e-10 mol/m²/s\n",
      "1.5691211652625925e-08 mol.L\n",
      "-14.879887109808326 µmol/m²/day\n",
      "-1.7222091562278156e-10 mol/m²/s\n",
      "1.5617594638083304e-08 mol.L\n",
      "-7.881959160998896 µmol/m²/day\n",
      "-9.122637917822797e-11 mol/m²/s\n",
      "1.5512192531280682e-08 mol.L\n",
      "-7.7488767272762855 µmol/m²/day\n",
      "-8.968607323236442e-11 mol/m²/s\n",
      "1.5433607872783045e-08 mol.L\n",
      "-0.7447518072949134 µmol/m²/day\n",
      "-8.619812584431868e-12 mol/m²/s\n",
      "1.5120386407623498e-08 mol.L\n",
      "295.5764532827862 µmol/m²/day\n",
      "3.421023764847062e-09 mol/m²/s\n",
      "1.5009867114550308e-08 mol.L\n",
      "217.7888836348352 µmol/m²/day\n",
      "2.5207046716994816e-09 mol/m²/s\n",
      "1.490015563906935e-08 mol.L\n",
      "277.112544925802 µmol/m²/day\n",
      "3.207321121826413e-09 mol/m²/s\n",
      "1.4805164226038814e-08 mol.L\n",
      "275.25963719463584 µmol/m²/day\n",
      "3.1858754304934706e-09 mol/m²/s\n",
      "1.4542944924007285e-08 mol.L\n",
      "231.20186626531094 µmol/m²/day\n",
      "2.6759475262188768e-09 mol/m²/s\n",
      "1.4269256036865614e-08 mol.L\n",
      "126.0005937936351 µmol/m²/day\n",
      "1.458340205944851e-09 mol/m²/s\n",
      "1.4159629961237367e-08 mol.L\n",
      "115.28834068110204 µmol/m²/day\n",
      "1.3343557949201625e-09 mol/m²/s\n",
      "1.3982294484472277e-08 mol.L\n",
      "25.748174422206723 µmol/m²/day\n",
      "2.9801127803480007e-10 mol/m²/s\n",
      "1.376568727144912e-08 mol.L\n",
      "13.198264888390739 µmol/m²/day\n",
      "1.527576954674854e-10 mol/m²/s\n",
      "1.3649655723113307e-08 mol.L\n",
      "11.371885149235876 µmol/m²/day\n",
      "1.3161904107911894e-10 mol/m²/s\n",
      "1.3595842719528532e-08 mol.L\n",
      "5.521331606500231 µmol/m²/day\n",
      "6.390430100116008e-11 mol/m²/s\n",
      "1.344072959985601e-08 mol.L\n",
      "-1.1877226548584763 µmol/m²/day\n",
      "-1.374678998678792e-11 mol/m²/s\n"
     ]
    }
   ],
   "source": [
    "Flux_wilde = []\n",
    "for i in range(len(wilde_data[' cNitrous'])) :\n",
    "\n",
    "    N2O = wilde_data[' cNitrous'][i]\n",
    "    temp = 5\n",
    "    Sali = wilde_data.salinity[i]\n",
    "\n",
    "    if N2O != -999 :\n",
    "        N2O *= 10**-9\n",
    "        f = Wanninkhof(N2O,temp,Sali,u=5.3)\n",
    "        f = f*3600*24*10**6 #convert in µmol.m**-2.hour**-1\n",
    "        Flux_wilde.append(f) \n",
    "    else :\n",
    "        Flux_wilde.append(-999)"
   ]
  },
  {
   "cell_type": "code",
   "execution_count": 43,
   "id": "3d0e48f5-af59-487c-bfe4-c44e8aece459",
   "metadata": {},
   "outputs": [
    {
     "data": {
      "text/plain": [
       "Text(0, 0.5, '[N$_2$O] µmol.m$^{-2}$.day$^{-1}$')"
      ]
     },
     "execution_count": 43,
     "metadata": {},
     "output_type": "execute_result"
    },
    {
     "data": {
      "image/png": "[encoded data removed]",
      "text/plain": [
       "<Figure size 640x480 with 1 Axes>"
      ]
     },
     "metadata": {},
     "output_type": "display_data"
    }
   ],
   "source": [
    "plt.plot(wilde_data.salinity, Flux_wilde)\n",
    "plt.xlabel('Salinity')\n",
    "plt.ylabel(\"[N$_2$O] µmol.m$^{-2}$.day$^{-1}$\")"
   ]
  },
  {
   "cell_type": "markdown",
   "id": "99b157f7-5613-419f-876a-7396a86e8cba",
   "metadata": {},
   "source": [
    "## Theorical dilution line"
   ]
  },
  {
   "cell_type": "markdown",
   "id": "83d81429-3629-476e-86dc-26dd16b936be",
   "metadata": {},
   "source": [
    "### Importing cross section of De Cock 2017"
   ]
  },
  {
   "cell_type": "code",
   "execution_count": 56,
   "id": "a530ca45-2047-472c-b74f-497860ff937f",
   "metadata": {},
   "outputs": [],
   "source": [
    "cross = pd.read_csv('./cross-section.csv')"
   ]
  },
  {
   "cell_type": "code",
   "execution_count": 59,
   "id": "b254e4bd-1ac5-4561-a7c1-b7f58f71f4f0",
   "metadata": {},
   "outputs": [
    {
     "data": {
      "text/html": [
       "<div>\n",
       "<style scoped>\n",
       "    .dataframe tbody tr th:only-of-type {\n",
       "        vertical-align: middle;\n",
       "    }\n",
       "\n",
       "    .dataframe tbody tr th {\n",
       "        vertical-align: top;\n",
       "    }\n",
       "\n",
       "    .dataframe thead th {\n",
       "        text-align: right;\n",
       "    }\n",
       "</style>\n",
       "<table border=\"1\" class=\"dataframe\">\n",
       "  <thead>\n",
       "    <tr style=\"text-align: right;\">\n",
       "      <th></th>\n",
       "      <th>distance</th>\n",
       "      <th>cross-section(m2)</th>\n",
       "    </tr>\n",
       "  </thead>\n",
       "  <tbody>\n",
       "    <tr>\n",
       "      <th>0</th>\n",
       "      <td>6.019008</td>\n",
       "      <td>82689.329232</td>\n",
       "    </tr>\n",
       "    <tr>\n",
       "      <th>1</th>\n",
       "      <td>19.746567</td>\n",
       "      <td>57805.253360</td>\n",
       "    </tr>\n",
       "    <tr>\n",
       "      <th>2</th>\n",
       "      <td>32.840549</td>\n",
       "      <td>41576.504766</td>\n",
       "    </tr>\n",
       "    <tr>\n",
       "      <th>3</th>\n",
       "      <td>43.716995</td>\n",
       "      <td>26584.231076</td>\n",
       "    </tr>\n",
       "    <tr>\n",
       "      <th>4</th>\n",
       "      <td>52.059129</td>\n",
       "      <td>17774.343698</td>\n",
       "    </tr>\n",
       "    <tr>\n",
       "      <th>5</th>\n",
       "      <td>56.705381</td>\n",
       "      <td>14837.710642</td>\n",
       "    </tr>\n",
       "    <tr>\n",
       "      <th>6</th>\n",
       "      <td>60.506858</td>\n",
       "      <td>13292.115538</td>\n",
       "    </tr>\n",
       "    <tr>\n",
       "      <th>7</th>\n",
       "      <td>64.097144</td>\n",
       "      <td>9737.242081</td>\n",
       "    </tr>\n",
       "    <tr>\n",
       "      <th>8</th>\n",
       "      <td>67.581835</td>\n",
       "      <td>8964.444529</td>\n",
       "    </tr>\n",
       "    <tr>\n",
       "      <th>9</th>\n",
       "      <td>71.383312</td>\n",
       "      <td>7727.975521</td>\n",
       "    </tr>\n",
       "    <tr>\n",
       "      <th>10</th>\n",
       "      <td>74.340012</td>\n",
       "      <td>5564.140017</td>\n",
       "    </tr>\n",
       "    <tr>\n",
       "      <th>11</th>\n",
       "      <td>77.402315</td>\n",
       "      <td>5100.456769</td>\n",
       "    </tr>\n",
       "    <tr>\n",
       "      <th>12</th>\n",
       "      <td>81.098197</td>\n",
       "      <td>4018.544913</td>\n",
       "    </tr>\n",
       "    <tr>\n",
       "      <th>13</th>\n",
       "      <td>86.378027</td>\n",
       "      <td>3245.747360</td>\n",
       "    </tr>\n",
       "    <tr>\n",
       "      <th>14</th>\n",
       "      <td>91.657858</td>\n",
       "      <td>3245.747360</td>\n",
       "    </tr>\n",
       "  </tbody>\n",
       "</table>\n",
       "</div>"
      ],
      "text/plain": [
       "     distance  cross-section(m2)\n",
       "0    6.019008       82689.329232\n",
       "1   19.746567       57805.253360\n",
       "2   32.840549       41576.504766\n",
       "3   43.716995       26584.231076\n",
       "4   52.059129       17774.343698\n",
       "5   56.705381       14837.710642\n",
       "6   60.506858       13292.115538\n",
       "7   64.097144        9737.242081\n",
       "8   67.581835        8964.444529\n",
       "9   71.383312        7727.975521\n",
       "10  74.340012        5564.140017\n",
       "11  77.402315        5100.456769\n",
       "12  81.098197        4018.544913\n",
       "13  86.378027        3245.747360\n",
       "14  91.657858        3245.747360"
      ]
     },
     "execution_count": 59,
     "metadata": {},
     "output_type": "execute_result"
    }
   ],
   "source": [
    "cross"
   ]
  },
  {
   "cell_type": "code",
   "execution_count": 67,
   "id": "e8e41a06-153a-496b-9f6f-1c151bc2de3f",
   "metadata": {},
   "outputs": [
    {
     "data": {
      "text/plain": [
       "Text(0, 0.5, 'Cross-section (m²)')"
      ]
     },
     "execution_count": 67,
     "metadata": {},
     "output_type": "execute_result"
    },
    {
     "data": {
      "image/png": "[encoded data removed]",
      "text/plain": [
       "<Figure size 640x480 with 1 Axes>"
      ]
     },
     "metadata": {},
     "output_type": "display_data"
    }
   ],
   "source": [
    "CS = cross['cross-section(m2)']\n",
    "dist = cross.distance\n",
    "\n",
    "plt.scatter(dist, CS)\n",
    "plt.xlabel('Distance (m)')\n",
    "plt.yscale('log')\n",
    "plt.ylabel('Cross-section (m²)')"
   ]
  },
  {
   "cell_type": "code",
   "execution_count": 73,
   "id": "6eb55c50-771d-4dd5-8627-fe5182078237",
   "metadata": {},
   "outputs": [],
   "source": [
    "X = np.array(dist)"
   ]
  },
  {
   "cell_type": "markdown",
   "id": "b1d047d7-6dab-46d4-8b5d-056ad620f3c3",
   "metadata": {},
   "source": [
    "### Linear Regression"
   ]
  },
  {
   "cell_type": "code",
   "execution_count": 65,
   "id": "597248c9-1d20-4947-b543-6df5dfd4e7d2",
   "metadata": {},
   "outputs": [],
   "source": [
    "from sklearn.linear_model import LinearRegression"
   ]
  },
  {
   "cell_type": "code",
   "execution_count": 79,
   "id": "5411734c-fbb2-4114-a40c-b3419cacc9cc",
   "metadata": {},
   "outputs": [],
   "source": [
    "reg = LinearRegression().fit(np.array([dist]).reshape(-1, 1)  , np.log([CS]).reshape(-1, 1) )"
   ]
  },
  {
   "cell_type": "code",
   "execution_count": 132,
   "id": "47458458-9832-4b7b-bb41-cd1ee1425d29",
   "metadata": {},
   "outputs": [],
   "source": [
    "xpred = np.arange(0,80,1).reshape(-1, 1)\n",
    "pred = reg.predict(xpred)\n",
    "predCross = np.exp(pred)"
   ]
  },
  {
   "cell_type": "code",
   "execution_count": 133,
   "id": "f4cb2c8d-d1e1-414f-8247-eaff44295159",
   "metadata": {},
   "outputs": [
    {
     "data": {
      "text/plain": [
       "Text(0, 0.5, 'Cross-section (m²)')"
      ]
     },
     "execution_count": 133,
     "metadata": {},
     "output_type": "execute_result"
    },
    {
     "data": {
      "image/png": "[encoded data removed]",
      "text/plain": [
       "<Figure size 640x480 with 1 Axes>"
      ]
     },
     "metadata": {},
     "output_type": "display_data"
    }
   ],
   "source": [
    "plt.scatter(dist, CS)\n",
    "plt.plot(xpred,predCross, c='r')\n",
    "plt.xlabel('Distance (m)')\n",
    "plt.yscale('log')\n",
    "plt.ylabel('Cross-section (m²)')"
   ]
  },
  {
   "cell_type": "markdown",
   "id": "8804de87-8781-4a8c-ae32-ad858fba1c97",
   "metadata": {},
   "source": [
    "### Importing station kilometers"
   ]
  },
  {
   "cell_type": "code",
   "execution_count": 134,
   "id": "b410a2fd-a8ce-4d60-9ed9-ba1c80a60b32",
   "metadata": {},
   "outputs": [],
   "source": [
    "kilo = pd.read_csv('./station_kilometer.csv')"
   ]
  },
  {
   "cell_type": "code",
   "execution_count": 135,
   "id": "df63c1e7-411d-4319-bfa8-e9d8248dad40",
   "metadata": {},
   "outputs": [
    {
     "data": {
      "text/html": [
       "<div>\n",
       "<style scoped>\n",
       "    .dataframe tbody tr th:only-of-type {\n",
       "        vertical-align: middle;\n",
       "    }\n",
       "\n",
       "    .dataframe tbody tr th {\n",
       "        vertical-align: top;\n",
       "    }\n",
       "\n",
       "    .dataframe thead th {\n",
       "        text-align: right;\n",
       "    }\n",
       "</style>\n",
       "<table border=\"1\" class=\"dataframe\">\n",
       "  <thead>\n",
       "    <tr style=\"text-align: right;\">\n",
       "      <th></th>\n",
       "      <th>fid</th>\n",
       "      <th>Station</th>\n",
       "      <th>Latitude (N)</th>\n",
       "      <th>Longitude (E)</th>\n",
       "      <th>Tmean (°C)</th>\n",
       "      <th>Salinity PSU</th>\n",
       "      <th>N2O (nM)</th>\n",
       "      <th>NH4 (µmol/L)</th>\n",
       "      <th>NOx (µmol/L)</th>\n",
       "      <th>O2 dissous winkler (mg/L)</th>\n",
       "      <th>id</th>\n",
       "      <th>naam</th>\n",
       "      <th>km_afstand</th>\n",
       "      <th>n</th>\n",
       "      <th>distance</th>\n",
       "      <th>feature_x</th>\n",
       "      <th>feature_y</th>\n",
       "      <th>nearest_x</th>\n",
       "      <th>nearest_y</th>\n",
       "    </tr>\n",
       "  </thead>\n",
       "  <tbody>\n",
       "    <tr>\n",
       "      <th>0</th>\n",
       "      <td>1</td>\n",
       "      <td>S01</td>\n",
       "      <td>51,41603333</td>\n",
       "      <td>3.583233</td>\n",
       "      <td>7.00</td>\n",
       "      <td>27.81</td>\n",
       "      <td>15.23</td>\n",
       "      <td>5.98</td>\n",
       "      <td>104.17</td>\n",
       "      <td>7.46</td>\n",
       "      <td>0</td>\n",
       "      <td>NaN</td>\n",
       "      <td>1</td>\n",
       "      <td>1</td>\n",
       "      <td>0.000322</td>\n",
       "      <td>3.583233</td>\n",
       "      <td>51.416033</td>\n",
       "      <td>3.582913</td>\n",
       "      <td>51.416059</td>\n",
       "    </tr>\n",
       "    <tr>\n",
       "      <th>1</th>\n",
       "      <td>2</td>\n",
       "      <td>S01B</td>\n",
       "      <td>51,41591667</td>\n",
       "      <td>3.571033</td>\n",
       "      <td>6.90</td>\n",
       "      <td>29.70</td>\n",
       "      <td>18.03</td>\n",
       "      <td>4.97</td>\n",
       "      <td>61.85</td>\n",
       "      <td>7.12</td>\n",
       "      <td>0</td>\n",
       "      <td>NaN</td>\n",
       "      <td>0</td>\n",
       "      <td>1</td>\n",
       "      <td>0.002263</td>\n",
       "      <td>3.571033</td>\n",
       "      <td>51.415917</td>\n",
       "      <td>3.568771</td>\n",
       "      <td>51.415997</td>\n",
       "    </tr>\n",
       "    <tr>\n",
       "      <th>2</th>\n",
       "      <td>3</td>\n",
       "      <td>T02</td>\n",
       "      <td>51,34063333</td>\n",
       "      <td>4.269417</td>\n",
       "      <td>7.64</td>\n",
       "      <td>8.05</td>\n",
       "      <td>-999.00</td>\n",
       "      <td>16.00</td>\n",
       "      <td>87.10</td>\n",
       "      <td>7.34</td>\n",
       "      <td>0</td>\n",
       "      <td>z29</td>\n",
       "      <td>58</td>\n",
       "      <td>1</td>\n",
       "      <td>0.001330</td>\n",
       "      <td>4.269417</td>\n",
       "      <td>51.340633</td>\n",
       "      <td>4.269974</td>\n",
       "      <td>51.339426</td>\n",
       "    </tr>\n",
       "    <tr>\n",
       "      <th>3</th>\n",
       "      <td>4</td>\n",
       "      <td>S04</td>\n",
       "      <td>51,34441667</td>\n",
       "      <td>3.846533</td>\n",
       "      <td>6.89</td>\n",
       "      <td>22.38</td>\n",
       "      <td>19.40</td>\n",
       "      <td>5.72</td>\n",
       "      <td>133.47</td>\n",
       "      <td>7.79</td>\n",
       "      <td>0</td>\n",
       "      <td>z10</td>\n",
       "      <td>20</td>\n",
       "      <td>1</td>\n",
       "      <td>0.009085</td>\n",
       "      <td>3.846533</td>\n",
       "      <td>51.344417</td>\n",
       "      <td>3.837494</td>\n",
       "      <td>51.343511</td>\n",
       "    </tr>\n",
       "    <tr>\n",
       "      <th>4</th>\n",
       "      <td>5</td>\n",
       "      <td>T04</td>\n",
       "      <td>51,42988333</td>\n",
       "      <td>3.968567</td>\n",
       "      <td>6.71</td>\n",
       "      <td>16.17</td>\n",
       "      <td>22.43</td>\n",
       "      <td>8.95</td>\n",
       "      <td>179.04</td>\n",
       "      <td>7.24</td>\n",
       "      <td>0</td>\n",
       "      <td>u16</td>\n",
       "      <td>33</td>\n",
       "      <td>1</td>\n",
       "      <td>0.001535</td>\n",
       "      <td>3.968567</td>\n",
       "      <td>51.429883</td>\n",
       "      <td>3.970080</td>\n",
       "      <td>51.430140</td>\n",
       "    </tr>\n",
       "    <tr>\n",
       "      <th>5</th>\n",
       "      <td>6</td>\n",
       "      <td>T05</td>\n",
       "      <td>51,3989</td>\n",
       "      <td>3.951933</td>\n",
       "      <td>6.60</td>\n",
       "      <td>18.77</td>\n",
       "      <td>-999.00</td>\n",
       "      <td>7.94</td>\n",
       "      <td>157.88</td>\n",
       "      <td>7.29</td>\n",
       "      <td>0</td>\n",
       "      <td>u14</td>\n",
       "      <td>29</td>\n",
       "      <td>1</td>\n",
       "      <td>0.002827</td>\n",
       "      <td>3.951933</td>\n",
       "      <td>51.398900</td>\n",
       "      <td>3.952518</td>\n",
       "      <td>51.401666</td>\n",
       "    </tr>\n",
       "    <tr>\n",
       "      <th>6</th>\n",
       "      <td>7</td>\n",
       "      <td>S09</td>\n",
       "      <td>51,3716</td>\n",
       "      <td>4.082783</td>\n",
       "      <td>7.29</td>\n",
       "      <td>11.04</td>\n",
       "      <td>27.88</td>\n",
       "      <td>5.61</td>\n",
       "      <td>231.12</td>\n",
       "      <td>7.31</td>\n",
       "      <td>0</td>\n",
       "      <td>u21</td>\n",
       "      <td>43</td>\n",
       "      <td>1</td>\n",
       "      <td>0.005118</td>\n",
       "      <td>4.082783</td>\n",
       "      <td>51.371600</td>\n",
       "      <td>4.087643</td>\n",
       "      <td>51.369993</td>\n",
       "    </tr>\n",
       "    <tr>\n",
       "      <th>7</th>\n",
       "      <td>8</td>\n",
       "      <td>S12</td>\n",
       "      <td>51,364</td>\n",
       "      <td>4.225633</td>\n",
       "      <td>7.58</td>\n",
       "      <td>6.64</td>\n",
       "      <td>33.88</td>\n",
       "      <td>24.47</td>\n",
       "      <td>274.70</td>\n",
       "      <td>7.00</td>\n",
       "      <td>0</td>\n",
       "      <td>z27</td>\n",
       "      <td>54</td>\n",
       "      <td>1</td>\n",
       "      <td>0.000340</td>\n",
       "      <td>4.225633</td>\n",
       "      <td>51.364000</td>\n",
       "      <td>4.225509</td>\n",
       "      <td>51.364317</td>\n",
       "    </tr>\n",
       "    <tr>\n",
       "      <th>8</th>\n",
       "      <td>9</td>\n",
       "      <td>S15</td>\n",
       "      <td>51,31241667</td>\n",
       "      <td>4.272633</td>\n",
       "      <td>7.59</td>\n",
       "      <td>8.89</td>\n",
       "      <td>29.41</td>\n",
       "      <td>10.38</td>\n",
       "      <td>259.63</td>\n",
       "      <td>7.17</td>\n",
       "      <td>0</td>\n",
       "      <td>u30</td>\n",
       "      <td>61</td>\n",
       "      <td>1</td>\n",
       "      <td>0.000505</td>\n",
       "      <td>4.272633</td>\n",
       "      <td>51.312417</td>\n",
       "      <td>4.272605</td>\n",
       "      <td>51.312921</td>\n",
       "    </tr>\n",
       "    <tr>\n",
       "      <th>9</th>\n",
       "      <td>10</td>\n",
       "      <td>S15B</td>\n",
       "      <td>51,32403333</td>\n",
       "      <td>4.274983</td>\n",
       "      <td>7.26</td>\n",
       "      <td>3.79</td>\n",
       "      <td>40.29</td>\n",
       "      <td>15.41</td>\n",
       "      <td>291.45</td>\n",
       "      <td>6.48</td>\n",
       "      <td>0</td>\n",
       "      <td>z30</td>\n",
       "      <td>60</td>\n",
       "      <td>1</td>\n",
       "      <td>0.002154</td>\n",
       "      <td>4.274983</td>\n",
       "      <td>51.324033</td>\n",
       "      <td>4.275051</td>\n",
       "      <td>51.321880</td>\n",
       "    </tr>\n",
       "    <tr>\n",
       "      <th>10</th>\n",
       "      <td>11</td>\n",
       "      <td>S22</td>\n",
       "      <td>51,22063333</td>\n",
       "      <td>4.392817</td>\n",
       "      <td>7.21</td>\n",
       "      <td>3.61</td>\n",
       "      <td>43.58</td>\n",
       "      <td>19.97</td>\n",
       "      <td>296.48</td>\n",
       "      <td>6.92</td>\n",
       "      <td>0</td>\n",
       "      <td>z39</td>\n",
       "      <td>78</td>\n",
       "      <td>1</td>\n",
       "      <td>0.000916</td>\n",
       "      <td>4.392817</td>\n",
       "      <td>51.220633</td>\n",
       "      <td>4.392946</td>\n",
       "      <td>51.221540</td>\n",
       "    </tr>\n",
       "    <tr>\n",
       "      <th>11</th>\n",
       "      <td>12</td>\n",
       "      <td>S22B</td>\n",
       "      <td>51,21626667</td>\n",
       "      <td>4.389483</td>\n",
       "      <td>7.06</td>\n",
       "      <td>0.49</td>\n",
       "      <td>74.40</td>\n",
       "      <td>44.61</td>\n",
       "      <td>321.60</td>\n",
       "      <td>5.76</td>\n",
       "      <td>0</td>\n",
       "      <td>u39</td>\n",
       "      <td>79</td>\n",
       "      <td>1</td>\n",
       "      <td>0.004106</td>\n",
       "      <td>4.389483</td>\n",
       "      <td>51.216267</td>\n",
       "      <td>4.387765</td>\n",
       "      <td>51.212538</td>\n",
       "    </tr>\n",
       "    <tr>\n",
       "      <th>12</th>\n",
       "      <td>13</td>\n",
       "      <td>T01</td>\n",
       "      <td>51,3729</td>\n",
       "      <td>4.144217</td>\n",
       "      <td>7.64</td>\n",
       "      <td>8.04</td>\n",
       "      <td>22.37</td>\n",
       "      <td>9.80</td>\n",
       "      <td>211.05</td>\n",
       "      <td>7.35</td>\n",
       "      <td>0</td>\n",
       "      <td>z23</td>\n",
       "      <td>46</td>\n",
       "      <td>1</td>\n",
       "      <td>0.006758</td>\n",
       "      <td>4.144217</td>\n",
       "      <td>51.372900</td>\n",
       "      <td>4.137468</td>\n",
       "      <td>51.372558</td>\n",
       "    </tr>\n",
       "    <tr>\n",
       "      <th>13</th>\n",
       "      <td>14</td>\n",
       "      <td>T06</td>\n",
       "      <td>51,3527</td>\n",
       "      <td>3.873800</td>\n",
       "      <td>6.66</td>\n",
       "      <td>20.72</td>\n",
       "      <td>23.00</td>\n",
       "      <td>7.78</td>\n",
       "      <td>139.98</td>\n",
       "      <td>7.22</td>\n",
       "      <td>0</td>\n",
       "      <td>z11</td>\n",
       "      <td>22</td>\n",
       "      <td>1</td>\n",
       "      <td>0.002689</td>\n",
       "      <td>3.873800</td>\n",
       "      <td>51.352700</td>\n",
       "      <td>3.871351</td>\n",
       "      <td>51.351589</td>\n",
       "    </tr>\n",
       "    <tr>\n",
       "      <th>14</th>\n",
       "      <td>15</td>\n",
       "      <td>T07</td>\n",
       "      <td>51,36801667</td>\n",
       "      <td>3.749600</td>\n",
       "      <td>6.82</td>\n",
       "      <td>24.48</td>\n",
       "      <td>20.71</td>\n",
       "      <td>-999.00</td>\n",
       "      <td>110.68</td>\n",
       "      <td>7.00</td>\n",
       "      <td>0</td>\n",
       "      <td>z7</td>\n",
       "      <td>14</td>\n",
       "      <td>1</td>\n",
       "      <td>0.002448</td>\n",
       "      <td>3.749600</td>\n",
       "      <td>51.368017</td>\n",
       "      <td>3.747545</td>\n",
       "      <td>51.369348</td>\n",
       "    </tr>\n",
       "  </tbody>\n",
       "</table>\n",
       "</div>"
      ],
      "text/plain": [
       "    fid Station Latitude (N)  Longitude (E)  Tmean (°C)  Salinity PSU  \\\n",
       "0     1     S01  51,41603333       3.583233        7.00         27.81   \n",
       "1     2    S01B  51,41591667       3.571033        6.90         29.70   \n",
       "2     3     T02  51,34063333       4.269417        7.64          8.05   \n",
       "3     4     S04  51,34441667       3.846533        6.89         22.38   \n",
       "4     5     T04  51,42988333       3.968567        6.71         16.17   \n",
       "5     6     T05      51,3989       3.951933        6.60         18.77   \n",
       "6     7     S09      51,3716       4.082783        7.29         11.04   \n",
       "7     8     S12       51,364       4.225633        7.58          6.64   \n",
       "8     9     S15  51,31241667       4.272633        7.59          8.89   \n",
       "9    10    S15B  51,32403333       4.274983        7.26          3.79   \n",
       "10   11     S22  51,22063333       4.392817        7.21          3.61   \n",
       "11   12    S22B  51,21626667       4.389483        7.06          0.49   \n",
       "12   13     T01      51,3729       4.144217        7.64          8.04   \n",
       "13   14     T06      51,3527       3.873800        6.66         20.72   \n",
       "14   15     T07  51,36801667       3.749600        6.82         24.48   \n",
       "\n",
       "    N2O (nM)  NH4 (µmol/L)  NOx (µmol/L)  O2 dissous winkler (mg/L)  id naam  \\\n",
       "0      15.23          5.98        104.17                       7.46   0  NaN   \n",
       "1      18.03          4.97         61.85                       7.12   0  NaN   \n",
       "2    -999.00         16.00         87.10                       7.34   0  z29   \n",
       "3      19.40          5.72        133.47                       7.79   0  z10   \n",
       "4      22.43          8.95        179.04                       7.24   0  u16   \n",
       "5    -999.00          7.94        157.88                       7.29   0  u14   \n",
       "6      27.88          5.61        231.12                       7.31   0  u21   \n",
       "7      33.88         24.47        274.70                       7.00   0  z27   \n",
       "8      29.41         10.38        259.63                       7.17   0  u30   \n",
       "9      40.29         15.41        291.45                       6.48   0  z30   \n",
       "10     43.58         19.97        296.48                       6.92   0  z39   \n",
       "11     74.40         44.61        321.60                       5.76   0  u39   \n",
       "12     22.37          9.80        211.05                       7.35   0  z23   \n",
       "13     23.00          7.78        139.98                       7.22   0  z11   \n",
       "14     20.71       -999.00        110.68                       7.00   0   z7   \n",
       "\n",
       "    km_afstand  n  distance  feature_x  feature_y  nearest_x  nearest_y  \n",
       "0            1  1  0.000322   3.583233  51.416033   3.582913  51.416059  \n",
       "1            0  1  0.002263   3.571033  51.415917   3.568771  51.415997  \n",
       "2           58  1  0.001330   4.269417  51.340633   4.269974  51.339426  \n",
       "3           20  1  0.009085   3.846533  51.344417   3.837494  51.343511  \n",
       "4           33  1  0.001535   3.968567  51.429883   3.970080  51.430140  \n",
       "5           29  1  0.002827   3.951933  51.398900   3.952518  51.401666  \n",
       "6           43  1  0.005118   4.082783  51.371600   4.087643  51.369993  \n",
       "7           54  1  0.000340   4.225633  51.364000   4.225509  51.364317  \n",
       "8           61  1  0.000505   4.272633  51.312417   4.272605  51.312921  \n",
       "9           60  1  0.002154   4.274983  51.324033   4.275051  51.321880  \n",
       "10          78  1  0.000916   4.392817  51.220633   4.392946  51.221540  \n",
       "11          79  1  0.004106   4.389483  51.216267   4.387765  51.212538  \n",
       "12          46  1  0.006758   4.144217  51.372900   4.137468  51.372558  \n",
       "13          22  1  0.002689   3.873800  51.352700   3.871351  51.351589  \n",
       "14          14  1  0.002448   3.749600  51.368017   3.747545  51.369348  "
      ]
     },
     "execution_count": 135,
     "metadata": {},
     "output_type": "execute_result"
    }
   ],
   "source": [
    "kilo"
   ]
  },
  {
   "cell_type": "code",
   "execution_count": 136,
   "id": "ed5f8ac0-b9af-40bf-b4eb-48513a093416",
   "metadata": {},
   "outputs": [
    {
     "data": {
      "text/plain": [
       "Text(0, 0.5, 'N$_2$O nM')"
      ]
     },
     "execution_count": 136,
     "metadata": {},
     "output_type": "execute_result"
    },
    {
     "data": {
      "image/png": "[encoded data removed]",
      "text/plain": [
       "<Figure size 640x480 with 1 Axes>"
      ]
     },
     "metadata": {},
     "output_type": "display_data"
    }
   ],
   "source": [
    "kiloN2O = np.where(kilo['N2O (nM)'] == -999, np.nan, kilo['N2O (nM)'])\n",
    "plt.scatter(kilo.km_afstand,kiloN2O)\n",
    "plt.xlabel(\"Distance (km)\")\n",
    "plt.ylabel('N$_2$O nM')"
   ]
  },
  {
   "cell_type": "code",
   "execution_count": 137,
   "id": "0a7726b5-6cc5-4c4e-9290-25835616aff6",
   "metadata": {},
   "outputs": [],
   "source": [
    "IDXmaxKM = np.argmax(kilo.km_afstand)\n",
    "depN2O = kiloN2O[IDXmaxKM]"
   ]
  },
  {
   "cell_type": "code",
   "execution_count": 138,
   "id": "0c9d70e1-50a8-4514-afb6-042cb0d09273",
   "metadata": {},
   "outputs": [],
   "source": [
    "diluLine = predCross/np.min(predCross)\n",
    "cN2Odilu = depN2O/diluLine"
   ]
  },
  {
   "cell_type": "code",
   "execution_count": 139,
   "id": "915638c8-5a6a-410c-8397-a2852cc7f914",
   "metadata": {},
   "outputs": [
    {
     "data": {
      "text/plain": [
       "Text(0, 0.5, 'N$_2$O nM')"
      ]
     },
     "execution_count": 139,
     "metadata": {},
     "output_type": "execute_result"
    },
    {
     "data": {
      "image/png": "[encoded data removed]",
      "text/plain": [
       "<Figure size 640x480 with 1 Axes>"
      ]
     },
     "metadata": {},
     "output_type": "display_data"
    }
   ],
   "source": [
    "kiloN2O = np.where(kilo['N2O (nM)'] == -999, np.nan, kilo['N2O (nM)'])\n",
    "plt.scatter(kilo.km_afstand,kiloN2O)\n",
    "plt.plot(xpred,cN2Odilu,c='r')\n",
    "plt.xlabel(\"Distance (km)\")\n",
    "plt.ylabel('N$_2$O nM')"
   ]
  },
  {
   "cell_type": "code",
   "execution_count": null,
   "id": "15c9d9cb-7b2d-4d75-8806-19855157f786",
   "metadata": {},
   "outputs": [],
   "source": []
  },
  {
   "cell_type": "code",
   "execution_count": null,
   "id": "ddbd1f45-2fec-40d2-8e5a-e265b00c1ba4",
   "metadata": {},
   "outputs": [],
   "source": []
  }
 ],
 "metadata": {
  "kernelspec": {
   "display_name": "Python 3 (ipykernel)",
   "language": "python",
   "name": "python3"
  },
  "language_info": {
   "codemirror_mode": {
    "name": "ipython",
    "version": 3
   },
   "file_extension": ".py",
   "mimetype": "text/x-python",
   "name": "python",
   "nbconvert_exporter": "python",
   "pygments_lexer": "ipython3",
   "version": "3.10.9"
  }
 },
 "nbformat": 4,
 "nbformat_minor": 5
}
