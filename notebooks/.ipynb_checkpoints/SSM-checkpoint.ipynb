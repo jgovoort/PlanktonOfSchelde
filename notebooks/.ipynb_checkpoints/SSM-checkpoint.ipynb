{
 "cells": [
  {
   "cell_type": "markdown",
   "id": "48045a0e-401d-4c26-9f00-85e2ec933855",
   "metadata": {},
   "source": [
    "# POS Steady-State Modelling"
   ]
  },
  {
   "cell_type": "code",
   "execution_count": null,
   "id": "3a03411f-1920-4d1b-88a6-2fe10b5558b6",
   "metadata": {},
   "outputs": [],
   "source": []
  }
 ],
 "metadata": {
  "kernelspec": {
   "display_name": "Python 3 (ipykernel)",
   "language": "python",
   "name": "python3"
  },
  "language_info": {
   "codemirror_mode": {
    "name": "ipython",
    "version": 3
   },
   "file_extension": ".py",
   "mimetype": "text/x-python",
   "name": "python",
   "nbconvert_exporter": "python",
   "pygments_lexer": "ipython3",
   "version": "3.9.13"
  }
 },
 "nbformat": 4,
 "nbformat_minor": 5
}
